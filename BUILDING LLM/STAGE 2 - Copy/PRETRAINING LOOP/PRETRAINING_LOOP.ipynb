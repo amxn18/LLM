{
  "nbformat": 4,
  "nbformat_minor": 0,
  "metadata": {
    "colab": {
      "provenance": [],
      "gpuType": "T4"
    },
    "kernelspec": {
      "name": "python3",
      "display_name": "Python 3"
    },
    "language_info": {
      "name": "python"
    },
    "accelerator": "GPU"
  },
  "cells": [
    {
      "cell_type": "markdown",
      "source": [
        "# Model Evaluation (Training and Validation Loss)"
      ],
      "metadata": {
        "id": "MXXwE0-gDrxM"
      }
    },
    {
      "cell_type": "code",
      "source": [
        "import importlib\n",
        "import tiktoken\n",
        "import torch\n",
        "import torch.nn as nn"
      ],
      "metadata": {
        "id": "6_MEp6ZEEioH"
      },
      "execution_count": 105,
      "outputs": []
    },
    {
      "cell_type": "code",
      "execution_count": 106,
      "metadata": {
        "id": "9GHwL4MfDbo4"
      },
      "outputs": [],
      "source": [
        "with open(\"the-verdict.txt\", \"r\", encoding = \"utf-8\") as f:\n",
        "  rawtext = f.read()"
      ]
    },
    {
      "cell_type": "code",
      "source": [
        "tokenizer = tiktoken.get_encoding(\"gpt2\")"
      ],
      "metadata": {
        "id": "35ltqtPlE2c5"
      },
      "execution_count": 107,
      "outputs": []
    },
    {
      "cell_type": "code",
      "source": [
        "print(rawtext[:100])\n",
        "totalChars = len(rawtext)\n",
        "print(totalChars)\n",
        "totalTokens = len(tokenizer.encode(rawtext))\n",
        "print(totalTokens)"
      ],
      "metadata": {
        "colab": {
          "base_uri": "https://localhost:8080/"
        },
        "id": "MnFOYQLvEQKI",
        "outputId": "1cb30e8d-caea-48e8-84ad-f4f8312db480"
      },
      "execution_count": 108,
      "outputs": [
        {
          "output_type": "stream",
          "name": "stdout",
          "text": [
            "I HAD always thought Jack Gisburn rather a cheap genius--though a good fellow enough--so it was no g\n",
            "20479\n",
            "5145\n"
          ]
        }
      ]
    },
    {
      "cell_type": "code",
      "source": [
        "GPT_CONFIG_124M = {\n",
        "    \"vocab_size\": 50257,\n",
        "    \"context_length\":256, # 1024-->256 (for local pc)\n",
        "    \"emb_dim\":768,\n",
        "    \"n_layers\":12,\n",
        "    \"n_heads\":12,\n",
        "    \"drop_rate\":0.1,\n",
        "    \"qkv_bias\": False\n",
        "}"
      ],
      "metadata": {
        "id": "hZfjY2m2FEIm"
      },
      "execution_count": 109,
      "outputs": []
    },
    {
      "cell_type": "code",
      "source": [
        "'Layer Normalization'\n",
        "class LayerNorm(nn.Module):\n",
        "  def __init__(self, emb_dim):\n",
        "    super().__init__()\n",
        "    self.eps = 1e-5\n",
        "    self.scale = nn.Parameter(torch.ones(emb_dim))\n",
        "    self.shift = nn.Parameter(torch.zeros(emb_dim))\n",
        "  def forward(self, x):\n",
        "    mean = x.mean(dim =-1, keepdim= True) # Mean Along Column\n",
        "    var = x.var(dim =-1, keepdim= True, unbiased = False) # Variance Along Column\n",
        "    normalizedX = (x-mean)/torch.sqrt(var+self.eps)  # Eps is small constant to prevent dividing by 0 during normalization\n",
        "    return self.scale * normalizedX + self.shift\n",
        "\n",
        "# Scale and shift are two trainable params of same dim as input that LLM automatically adjusts during training and this improves models performance on its training task\n",
        "\n",
        "'GELU ACTIVATION FUNCTION'\n",
        "class GELU(nn.Module):\n",
        "  def __init__(self):\n",
        "    super().__init__()\n",
        "\n",
        "  def forward(self, x):\n",
        "    return 0.5 * x * (1 + torch.tanh(\n",
        "        torch.sqrt(torch.tensor(2 / torch.pi)) * (x + 0.044715 * torch.pow(x, 3))\n",
        "    ))\n",
        "\n",
        "'Feed Forward Neural Network'\n",
        "class FeedForward(nn.Module):\n",
        "  def __init__(self, cfg):\n",
        "    super().__init__()\n",
        "    self.layers = nn.Sequential(\n",
        "        nn.Linear(cfg[\"emb_dim\"], 4*cfg[\"emb_dim\"]), #Expansion\n",
        "        nn.GELU(), # Activation\n",
        "        nn.Linear(4*cfg[\"emb_dim\"], cfg[\"emb_dim\"]), # Compression\n",
        "    )\n",
        "\n",
        "  def forward(self, x):\n",
        "    return self.layers(x)"
      ],
      "metadata": {
        "id": "E1ilLHudFHw3"
      },
      "execution_count": 110,
      "outputs": []
    },
    {
      "cell_type": "code",
      "source": [
        "'Masked Self Attention'\n",
        "class MultiHeadAttention(nn.Module):\n",
        "    def __init__(self, d_in, d_out, context_length, dropout, num_heads, qkv_bias=False):\n",
        "        super().__init__()\n",
        "        assert (d_out % num_heads == 0), \\\n",
        "            \"d_out must be divisible by num_heads\"\n",
        "\n",
        "        self.d_out = d_out\n",
        "        self.num_heads = num_heads\n",
        "        self.head_dim = d_out // num_heads # Reduce the projection dim to match desired output dim\n",
        "\n",
        "        self.W_query = nn.Linear(d_in, d_out, bias=qkv_bias)\n",
        "        self.W_key = nn.Linear(d_in, d_out, bias=qkv_bias)\n",
        "        self.W_value = nn.Linear(d_in, d_out, bias=qkv_bias)\n",
        "        self.out_proj = nn.Linear(d_out, d_out)  # Linear layer to combine head outputs\n",
        "        self.dropout = nn.Dropout(dropout)\n",
        "        self.register_buffer(\n",
        "            \"mask\",\n",
        "            torch.triu(torch.ones(context_length, context_length),\n",
        "                       diagonal=1)\n",
        "        )\n",
        "\n",
        "    def forward(self, x):\n",
        "        b, num_tokens, d_in = x.shape\n",
        "\n",
        "        keys = self.W_key(x) # Shape: (b, num_tokens, d_out)\n",
        "        queries = self.W_query(x)\n",
        "        values = self.W_value(x)\n",
        "\n",
        "        # We implicitly split the matrix by adding a `num_heads` dimension\n",
        "        # Unroll last dim: (b, num_tokens, d_out) -> (b, num_tokens, num_heads, head_dim)\n",
        "        keys = keys.view(b, num_tokens, self.num_heads, self.head_dim)\n",
        "        values = values.view(b, num_tokens, self.num_heads, self.head_dim)\n",
        "        queries = queries.view(b, num_tokens, self.num_heads, self.head_dim)\n",
        "\n",
        "        # Transpose: (b, num_tokens, num_heads, head_dim) -> (b, num_heads, num_tokens, head_dim)\n",
        "        keys = keys.transpose(1, 2)\n",
        "        queries = queries.transpose(1, 2)\n",
        "        values = values.transpose(1, 2)\n",
        "\n",
        "        # Compute scaled dot-product attention (aka self-attention) with a causal mask\n",
        "        attn_scores = queries @ keys.transpose(2, 3)  # Dot product for each head\n",
        "\n",
        "        # Original mask truncated to the number of tokens and converted to boolean\n",
        "        mask_bool = self.mask.bool()[:num_tokens, :num_tokens]\n",
        "\n",
        "        # Use the mask to fill attention scores\n",
        "        attn_scores.masked_fill_(mask_bool, -torch.inf)\n",
        "\n",
        "        attn_weights = torch.softmax(attn_scores / keys.shape[-1]**0.5, dim=-1)\n",
        "        attn_weights = self.dropout(attn_weights)\n",
        "\n",
        "        # Shape: (b, num_tokens, num_heads, head_dim)\n",
        "        context_vec = (attn_weights @ values).transpose(1, 2)\n",
        "\n",
        "        # Combine heads, where self.d_out = self.num_heads * self.head_dim\n",
        "        context_vec = context_vec.contiguous().view(b, num_tokens, self.d_out)\n",
        "        context_vec = self.out_proj(context_vec) # optional projection\n",
        "\n",
        "        return context_vec"
      ],
      "metadata": {
        "id": "qbaPZuoWFKtj"
      },
      "execution_count": 111,
      "outputs": []
    },
    {
      "cell_type": "code",
      "source": [
        "'TRANSFORMER BLOCK'\n",
        "class TransformerBlock(nn.Module):\n",
        "  def __init__(self, cfg):\n",
        "    super().__init__()\n",
        "    self.attention = MultiHeadAttention(\n",
        "        d_in = cfg[\"emb_dim\"],\n",
        "        d_out = cfg[\"emb_dim\"],\n",
        "        context_length = cfg[\"context_length\"],\n",
        "        dropout = cfg[\"drop_rate\"],\n",
        "        num_heads = cfg[\"n_heads\"],\n",
        "        qkv_bias= cfg[\"qkv_bias\"]\n",
        "    )\n",
        "    self.feedforwardNN = FeedForward(cfg)\n",
        "    self.normalization1 = LayerNorm(cfg[\"emb_dim\"])\n",
        "    self.normalization2 = LayerNorm(cfg[\"emb_dim\"])\n",
        "    self.drop_shortcut = nn.Dropout(cfg[\"drop_rate\"])\n",
        "\n",
        "  def forward(self, x):\n",
        "    shortcut = x\n",
        "    x = self.normalization1(x)\n",
        "    x = self.attention(x)  #Shape [batch_size, num_tokens, emb_size]\n",
        "    x = self.drop_shortcut(x)\n",
        "    x = shortcut + x # Add the original input block\n",
        "\n",
        "    # Shortcut connection for feed forward block\n",
        "    shortcut = x\n",
        "    x = self.normalization2(x)\n",
        "    x = self.feedforwardNN(x)\n",
        "    x = self.drop_shortcut(x)\n",
        "    x = shortcut + x\n",
        "    return x"
      ],
      "metadata": {
        "id": "Oq4D1SPLFNZn"
      },
      "execution_count": 112,
      "outputs": []
    },
    {
      "cell_type": "code",
      "source": [
        "class GPTModel(nn.Module):\n",
        "  def __init__(self, cfg):\n",
        "    super().__init__()\n",
        "    self.tokenEmbeddings = nn.Embedding(cfg[\"vocab_size\"], cfg[\"emb_dim\"])\n",
        "    self.positionalEmbeddings = nn.Embedding(cfg[\"context_length\"], cfg[\"emb_dim\"]) #(1024x768)\n",
        "    self.dropuoutEmbeddings = nn.Dropout(cfg[\"drop_rate\"])\n",
        "\n",
        "    'Transformer Block'\n",
        "    self.transformerBlock = nn.Sequential(\n",
        "    *[TransformerBlock(cfg) for _ in range(cfg[\"n_layers\"])]\n",
        "   )\n",
        "    'Layer Normalization'\n",
        "    self.finalNormalization = LayerNorm(cfg[\"emb_dim\"])\n",
        "    self.out_head = nn.Linear(\n",
        "        cfg[\"emb_dim\"],\n",
        "        cfg[\"vocab_size\"], bias = False\n",
        "    )\n",
        "\n",
        "  def forward(self, inIdx):\n",
        "    batchSize, seqLen  = inIdx.shape\n",
        "    tokenEmbeddings = self.tokenEmbeddings(inIdx)\n",
        "    positionalEmbeddings = self.positionalEmbeddings(torch.arange(seqLen, device = inIdx.device))\n",
        "    x = tokenEmbeddings + positionalEmbeddings\n",
        "    x = self.dropuoutEmbeddings(x)\n",
        "    x = self.transformerBlock(x)\n",
        "    x = self.finalNormalization(x)\n",
        "    logits = self.out_head(x)\n",
        "    return logits"
      ],
      "metadata": {
        "id": "W2WtImBVFQN6"
      },
      "execution_count": 113,
      "outputs": []
    },
    {
      "cell_type": "code",
      "source": [
        "def generateText(model, idx, maxNewTokens, contextSize):\n",
        "    # idx is (batch, numTokens) array of indices in the current context\n",
        "    for _ in range(maxNewTokens):\n",
        "        # Crop the current context if it exceeds the supported size\n",
        "        idxCond = idx[:, -contextSize:]\n",
        "\n",
        "        # Predictions\n",
        "        with torch.no_grad():\n",
        "            logits = model(idxCond)  # (batch, numTokens, vocabSize)\n",
        "\n",
        "        # S1) Extract last vector\n",
        "        logits = logits[:, -1, :]  # (batch, vocabSize)\n",
        "\n",
        "        # S2) Apply softmax to get probabilities\n",
        "        probs = torch.softmax(logits, dim=-1)\n",
        "\n",
        "        # S3) Choose the highest probability\n",
        "        idxNext = torch.argmax(probs, dim=-1, keepdim=True)  # (batch, 1)\n",
        "\n",
        "        # S4) Append the new token to the sequence\n",
        "        idx = torch.cat((idx, idxNext), dim=1)  # (batch, numTokens+1)\n",
        "\n",
        "    return idx\n"
      ],
      "metadata": {
        "id": "4GnGi4yHFXoy"
      },
      "execution_count": 114,
      "outputs": []
    },
    {
      "cell_type": "code",
      "source": [
        "GPT_CONFIG_124M = {\n",
        "    \"vocab_size\": 50257,\n",
        "    \"context_length\":256, # 1024-->256 (for local pc)\n",
        "    \"emb_dim\":768,\n",
        "    \"n_layers\":12,\n",
        "    \"n_heads\":12,\n",
        "    \"drop_rate\":0.1,\n",
        "    \"qkv_bias\": False\n",
        "}\n",
        "torch.manual_seed(123)\n",
        "model = GPTModel(GPT_CONFIG_124M)\n",
        "model.eval()"
      ],
      "metadata": {
        "colab": {
          "base_uri": "https://localhost:8080/"
        },
        "id": "_dMrm9xpFfk-",
        "outputId": "c49a474f-a6a1-4ece-e2dc-4f5d08e7a987"
      },
      "execution_count": 115,
      "outputs": [
        {
          "output_type": "execute_result",
          "data": {
            "text/plain": [
              "GPTModel(\n",
              "  (tokenEmbeddings): Embedding(50257, 768)\n",
              "  (positionalEmbeddings): Embedding(256, 768)\n",
              "  (dropuoutEmbeddings): Dropout(p=0.1, inplace=False)\n",
              "  (transformerBlock): Sequential(\n",
              "    (0): TransformerBlock(\n",
              "      (attention): MultiHeadAttention(\n",
              "        (W_query): Linear(in_features=768, out_features=768, bias=False)\n",
              "        (W_key): Linear(in_features=768, out_features=768, bias=False)\n",
              "        (W_value): Linear(in_features=768, out_features=768, bias=False)\n",
              "        (out_proj): Linear(in_features=768, out_features=768, bias=True)\n",
              "        (dropout): Dropout(p=0.1, inplace=False)\n",
              "      )\n",
              "      (feedforwardNN): FeedForward(\n",
              "        (layers): Sequential(\n",
              "          (0): Linear(in_features=768, out_features=3072, bias=True)\n",
              "          (1): GELU(approximate='none')\n",
              "          (2): Linear(in_features=3072, out_features=768, bias=True)\n",
              "        )\n",
              "      )\n",
              "      (normalization1): LayerNorm()\n",
              "      (normalization2): LayerNorm()\n",
              "      (drop_shortcut): Dropout(p=0.1, inplace=False)\n",
              "    )\n",
              "    (1): TransformerBlock(\n",
              "      (attention): MultiHeadAttention(\n",
              "        (W_query): Linear(in_features=768, out_features=768, bias=False)\n",
              "        (W_key): Linear(in_features=768, out_features=768, bias=False)\n",
              "        (W_value): Linear(in_features=768, out_features=768, bias=False)\n",
              "        (out_proj): Linear(in_features=768, out_features=768, bias=True)\n",
              "        (dropout): Dropout(p=0.1, inplace=False)\n",
              "      )\n",
              "      (feedforwardNN): FeedForward(\n",
              "        (layers): Sequential(\n",
              "          (0): Linear(in_features=768, out_features=3072, bias=True)\n",
              "          (1): GELU(approximate='none')\n",
              "          (2): Linear(in_features=3072, out_features=768, bias=True)\n",
              "        )\n",
              "      )\n",
              "      (normalization1): LayerNorm()\n",
              "      (normalization2): LayerNorm()\n",
              "      (drop_shortcut): Dropout(p=0.1, inplace=False)\n",
              "    )\n",
              "    (2): TransformerBlock(\n",
              "      (attention): MultiHeadAttention(\n",
              "        (W_query): Linear(in_features=768, out_features=768, bias=False)\n",
              "        (W_key): Linear(in_features=768, out_features=768, bias=False)\n",
              "        (W_value): Linear(in_features=768, out_features=768, bias=False)\n",
              "        (out_proj): Linear(in_features=768, out_features=768, bias=True)\n",
              "        (dropout): Dropout(p=0.1, inplace=False)\n",
              "      )\n",
              "      (feedforwardNN): FeedForward(\n",
              "        (layers): Sequential(\n",
              "          (0): Linear(in_features=768, out_features=3072, bias=True)\n",
              "          (1): GELU(approximate='none')\n",
              "          (2): Linear(in_features=3072, out_features=768, bias=True)\n",
              "        )\n",
              "      )\n",
              "      (normalization1): LayerNorm()\n",
              "      (normalization2): LayerNorm()\n",
              "      (drop_shortcut): Dropout(p=0.1, inplace=False)\n",
              "    )\n",
              "    (3): TransformerBlock(\n",
              "      (attention): MultiHeadAttention(\n",
              "        (W_query): Linear(in_features=768, out_features=768, bias=False)\n",
              "        (W_key): Linear(in_features=768, out_features=768, bias=False)\n",
              "        (W_value): Linear(in_features=768, out_features=768, bias=False)\n",
              "        (out_proj): Linear(in_features=768, out_features=768, bias=True)\n",
              "        (dropout): Dropout(p=0.1, inplace=False)\n",
              "      )\n",
              "      (feedforwardNN): FeedForward(\n",
              "        (layers): Sequential(\n",
              "          (0): Linear(in_features=768, out_features=3072, bias=True)\n",
              "          (1): GELU(approximate='none')\n",
              "          (2): Linear(in_features=3072, out_features=768, bias=True)\n",
              "        )\n",
              "      )\n",
              "      (normalization1): LayerNorm()\n",
              "      (normalization2): LayerNorm()\n",
              "      (drop_shortcut): Dropout(p=0.1, inplace=False)\n",
              "    )\n",
              "    (4): TransformerBlock(\n",
              "      (attention): MultiHeadAttention(\n",
              "        (W_query): Linear(in_features=768, out_features=768, bias=False)\n",
              "        (W_key): Linear(in_features=768, out_features=768, bias=False)\n",
              "        (W_value): Linear(in_features=768, out_features=768, bias=False)\n",
              "        (out_proj): Linear(in_features=768, out_features=768, bias=True)\n",
              "        (dropout): Dropout(p=0.1, inplace=False)\n",
              "      )\n",
              "      (feedforwardNN): FeedForward(\n",
              "        (layers): Sequential(\n",
              "          (0): Linear(in_features=768, out_features=3072, bias=True)\n",
              "          (1): GELU(approximate='none')\n",
              "          (2): Linear(in_features=3072, out_features=768, bias=True)\n",
              "        )\n",
              "      )\n",
              "      (normalization1): LayerNorm()\n",
              "      (normalization2): LayerNorm()\n",
              "      (drop_shortcut): Dropout(p=0.1, inplace=False)\n",
              "    )\n",
              "    (5): TransformerBlock(\n",
              "      (attention): MultiHeadAttention(\n",
              "        (W_query): Linear(in_features=768, out_features=768, bias=False)\n",
              "        (W_key): Linear(in_features=768, out_features=768, bias=False)\n",
              "        (W_value): Linear(in_features=768, out_features=768, bias=False)\n",
              "        (out_proj): Linear(in_features=768, out_features=768, bias=True)\n",
              "        (dropout): Dropout(p=0.1, inplace=False)\n",
              "      )\n",
              "      (feedforwardNN): FeedForward(\n",
              "        (layers): Sequential(\n",
              "          (0): Linear(in_features=768, out_features=3072, bias=True)\n",
              "          (1): GELU(approximate='none')\n",
              "          (2): Linear(in_features=3072, out_features=768, bias=True)\n",
              "        )\n",
              "      )\n",
              "      (normalization1): LayerNorm()\n",
              "      (normalization2): LayerNorm()\n",
              "      (drop_shortcut): Dropout(p=0.1, inplace=False)\n",
              "    )\n",
              "    (6): TransformerBlock(\n",
              "      (attention): MultiHeadAttention(\n",
              "        (W_query): Linear(in_features=768, out_features=768, bias=False)\n",
              "        (W_key): Linear(in_features=768, out_features=768, bias=False)\n",
              "        (W_value): Linear(in_features=768, out_features=768, bias=False)\n",
              "        (out_proj): Linear(in_features=768, out_features=768, bias=True)\n",
              "        (dropout): Dropout(p=0.1, inplace=False)\n",
              "      )\n",
              "      (feedforwardNN): FeedForward(\n",
              "        (layers): Sequential(\n",
              "          (0): Linear(in_features=768, out_features=3072, bias=True)\n",
              "          (1): GELU(approximate='none')\n",
              "          (2): Linear(in_features=3072, out_features=768, bias=True)\n",
              "        )\n",
              "      )\n",
              "      (normalization1): LayerNorm()\n",
              "      (normalization2): LayerNorm()\n",
              "      (drop_shortcut): Dropout(p=0.1, inplace=False)\n",
              "    )\n",
              "    (7): TransformerBlock(\n",
              "      (attention): MultiHeadAttention(\n",
              "        (W_query): Linear(in_features=768, out_features=768, bias=False)\n",
              "        (W_key): Linear(in_features=768, out_features=768, bias=False)\n",
              "        (W_value): Linear(in_features=768, out_features=768, bias=False)\n",
              "        (out_proj): Linear(in_features=768, out_features=768, bias=True)\n",
              "        (dropout): Dropout(p=0.1, inplace=False)\n",
              "      )\n",
              "      (feedforwardNN): FeedForward(\n",
              "        (layers): Sequential(\n",
              "          (0): Linear(in_features=768, out_features=3072, bias=True)\n",
              "          (1): GELU(approximate='none')\n",
              "          (2): Linear(in_features=3072, out_features=768, bias=True)\n",
              "        )\n",
              "      )\n",
              "      (normalization1): LayerNorm()\n",
              "      (normalization2): LayerNorm()\n",
              "      (drop_shortcut): Dropout(p=0.1, inplace=False)\n",
              "    )\n",
              "    (8): TransformerBlock(\n",
              "      (attention): MultiHeadAttention(\n",
              "        (W_query): Linear(in_features=768, out_features=768, bias=False)\n",
              "        (W_key): Linear(in_features=768, out_features=768, bias=False)\n",
              "        (W_value): Linear(in_features=768, out_features=768, bias=False)\n",
              "        (out_proj): Linear(in_features=768, out_features=768, bias=True)\n",
              "        (dropout): Dropout(p=0.1, inplace=False)\n",
              "      )\n",
              "      (feedforwardNN): FeedForward(\n",
              "        (layers): Sequential(\n",
              "          (0): Linear(in_features=768, out_features=3072, bias=True)\n",
              "          (1): GELU(approximate='none')\n",
              "          (2): Linear(in_features=3072, out_features=768, bias=True)\n",
              "        )\n",
              "      )\n",
              "      (normalization1): LayerNorm()\n",
              "      (normalization2): LayerNorm()\n",
              "      (drop_shortcut): Dropout(p=0.1, inplace=False)\n",
              "    )\n",
              "    (9): TransformerBlock(\n",
              "      (attention): MultiHeadAttention(\n",
              "        (W_query): Linear(in_features=768, out_features=768, bias=False)\n",
              "        (W_key): Linear(in_features=768, out_features=768, bias=False)\n",
              "        (W_value): Linear(in_features=768, out_features=768, bias=False)\n",
              "        (out_proj): Linear(in_features=768, out_features=768, bias=True)\n",
              "        (dropout): Dropout(p=0.1, inplace=False)\n",
              "      )\n",
              "      (feedforwardNN): FeedForward(\n",
              "        (layers): Sequential(\n",
              "          (0): Linear(in_features=768, out_features=3072, bias=True)\n",
              "          (1): GELU(approximate='none')\n",
              "          (2): Linear(in_features=3072, out_features=768, bias=True)\n",
              "        )\n",
              "      )\n",
              "      (normalization1): LayerNorm()\n",
              "      (normalization2): LayerNorm()\n",
              "      (drop_shortcut): Dropout(p=0.1, inplace=False)\n",
              "    )\n",
              "    (10): TransformerBlock(\n",
              "      (attention): MultiHeadAttention(\n",
              "        (W_query): Linear(in_features=768, out_features=768, bias=False)\n",
              "        (W_key): Linear(in_features=768, out_features=768, bias=False)\n",
              "        (W_value): Linear(in_features=768, out_features=768, bias=False)\n",
              "        (out_proj): Linear(in_features=768, out_features=768, bias=True)\n",
              "        (dropout): Dropout(p=0.1, inplace=False)\n",
              "      )\n",
              "      (feedforwardNN): FeedForward(\n",
              "        (layers): Sequential(\n",
              "          (0): Linear(in_features=768, out_features=3072, bias=True)\n",
              "          (1): GELU(approximate='none')\n",
              "          (2): Linear(in_features=3072, out_features=768, bias=True)\n",
              "        )\n",
              "      )\n",
              "      (normalization1): LayerNorm()\n",
              "      (normalization2): LayerNorm()\n",
              "      (drop_shortcut): Dropout(p=0.1, inplace=False)\n",
              "    )\n",
              "    (11): TransformerBlock(\n",
              "      (attention): MultiHeadAttention(\n",
              "        (W_query): Linear(in_features=768, out_features=768, bias=False)\n",
              "        (W_key): Linear(in_features=768, out_features=768, bias=False)\n",
              "        (W_value): Linear(in_features=768, out_features=768, bias=False)\n",
              "        (out_proj): Linear(in_features=768, out_features=768, bias=True)\n",
              "        (dropout): Dropout(p=0.1, inplace=False)\n",
              "      )\n",
              "      (feedforwardNN): FeedForward(\n",
              "        (layers): Sequential(\n",
              "          (0): Linear(in_features=768, out_features=3072, bias=True)\n",
              "          (1): GELU(approximate='none')\n",
              "          (2): Linear(in_features=3072, out_features=768, bias=True)\n",
              "        )\n",
              "      )\n",
              "      (normalization1): LayerNorm()\n",
              "      (normalization2): LayerNorm()\n",
              "      (drop_shortcut): Dropout(p=0.1, inplace=False)\n",
              "    )\n",
              "  )\n",
              "  (finalNormalization): LayerNorm()\n",
              "  (out_head): Linear(in_features=768, out_features=50257, bias=False)\n",
              ")"
            ]
          },
          "metadata": {},
          "execution_count": 115
        }
      ]
    },
    {
      "cell_type": "code",
      "source": [
        "def textToTokenId(text, tokenizer):\n",
        "  encoded = tokenizer.encode(text, allowed_special={'<|endoftext|>'})\n",
        "  encodedTensor = torch.tensor(encoded).unsqueeze(0) # Adding batch dimension\n",
        "  return encodedTensor\n",
        "def tokenIdtoText(tokenId, tokenizer):\n",
        "  flat = tokenId.squeeze(0) # Removing Batch dimension\n",
        "  return tokenizer.decode(flat.tolist())\n",
        "\n",
        "startContext = \"Every effort moves you\"\n",
        "tokenizer = tiktoken.get_encoding(\"gpt2\")\n",
        "\n",
        "tokenIds = generateText(\n",
        "    model = model,\n",
        "    idx = textToTokenId(startContext, tokenizer),\n",
        "    maxNewTokens=10,\n",
        "    contextSize= GPT_CONFIG_124M[\"context_length\"]\n",
        ")\n",
        "print(\"Output text:\\n\", tokenIdtoText(tokenIds, tokenizer))\n"
      ],
      "metadata": {
        "colab": {
          "base_uri": "https://localhost:8080/"
        },
        "id": "09_n24_aFYXv",
        "outputId": "e6f0d69a-5f4c-495d-b5ca-a11a415a0f05"
      },
      "execution_count": 116,
      "outputs": [
        {
          "output_type": "stream",
          "name": "stdout",
          "text": [
            "Output text:\n",
            " Every effort moves you rentingetic wasnم refres RexMeCHicular stren\n"
          ]
        }
      ]
    },
    {
      "cell_type": "markdown",
      "source": [
        "* Dataset and DataLoader"
      ],
      "metadata": {
        "id": "FqS6nF-mFm4M"
      }
    },
    {
      "cell_type": "code",
      "source": [
        "from torch.utils.data import Dataset, DataLoader\n",
        "\n",
        "class GPTDatasetV1(Dataset):\n",
        "  def __init__(self, txt, tokenizer, maxLen, stride):\n",
        "    self.ipIds = []\n",
        "    self.targetIds = []\n",
        "\n",
        "    # S1 --> Tokenize the Entire text\n",
        "    tokenIds = tokenizer.encode(txt, allowed_special={\"<|endoftext|>\"})\n",
        "\n",
        "    # S2 --> Using sliding window to chunk book into overlapping sequence of maxLen\n",
        "    for i in range(0, len(tokenIds) - maxLen, stride):\n",
        "      inputChunk = tokenIds[i:i+maxLen]  # 0->4\n",
        "      targetChunk = tokenIds[i+1:i+1+maxLen] # 1->5\n",
        "\n",
        "      self.ipIds.append(torch.tensor(inputChunk))  # Input Tensor X\n",
        "      self.targetIds.append(torch.tensor(targetChunk)) # Target Tensor Y\n",
        "\n",
        "  def __len__(self):\n",
        "    return len(self.ipIds)\n",
        "  def __getitem__(self, idx):\n",
        "    return self.ipIds[idx], self.targetIds[idx]  # Ip OP Pairs"
      ],
      "metadata": {
        "id": "d4jOi9-oFpNQ"
      },
      "execution_count": 117,
      "outputs": []
    },
    {
      "cell_type": "code",
      "source": [
        "def dataLoaderV1(txt, batch_size = 4, max_length = 256,\n",
        "                 stride = 128, shuffle = True, drop_last = True,\n",
        "                 num_workers = 0):\n",
        "  # S1) Initialize the tokenizer\n",
        "  tokenizer = tiktoken.get_encoding(\"gpt2\")\n",
        "  # S2) Create Dataset\n",
        "  dataset = GPTDatasetV1(txt, tokenizer, max_length, stride)\n",
        "  # S3) Create Dataloader\n",
        "  dataloader = DataLoader(dataset, batch_size = batch_size,\n",
        "                          shuffle = shuffle, drop_last = drop_last,\n",
        "                          num_workers = num_workers)\n",
        "  return dataloader\n"
      ],
      "metadata": {
        "id": "L0pygE3qFvFM"
      },
      "execution_count": 118,
      "outputs": []
    },
    {
      "cell_type": "markdown",
      "source": [
        "* Splitting Dataset"
      ],
      "metadata": {
        "id": "EDJ9CWObGL53"
      }
    },
    {
      "cell_type": "code",
      "source": [
        "trainRatio = 0.90\n",
        "splitIdx = int(trainRatio*len(rawtext))\n",
        "trainingData = rawtext[:splitIdx]\n",
        "validationData = rawtext[splitIdx:]\n",
        "\n",
        "torch.manual_seed(123)\n",
        "trainLoader = dataLoaderV1(\n",
        "    trainingData,\n",
        "    batch_size = 2,\n",
        "    max_length = GPT_CONFIG_124M[\"context_length\"],\n",
        "    stride = GPT_CONFIG_124M[\"context_length\"],\n",
        "    shuffle = True,\n",
        "    drop_last = True,\n",
        "    num_workers = 0\n",
        ")\n",
        "\n",
        "validationLoader = dataLoaderV1(\n",
        "    validationData,\n",
        "    batch_size = 2,\n",
        "    max_length = GPT_CONFIG_124M[\"context_length\"],\n",
        "    stride = GPT_CONFIG_124M[\"context_length\"],\n",
        "    drop_last= False,\n",
        "    shuffle= False,\n",
        "    num_workers= 0\n",
        ")"
      ],
      "metadata": {
        "id": "X9e2nOXCGONo"
      },
      "execution_count": 119,
      "outputs": []
    },
    {
      "cell_type": "code",
      "source": [
        "'Sanity Check'\n",
        "if totalTokens*(trainRatio) < GPT_CONFIG_124M[\"context_length\"]:\n",
        "  print(\"Not enough data for training\")\n",
        "if(totalTokens*(1-trainRatio)) < GPT_CONFIG_124M[\"context_length\"]:\n",
        "  print(\"Not enough data for validation\")"
      ],
      "metadata": {
        "id": "HoFj4-JZHw5U"
      },
      "execution_count": 120,
      "outputs": []
    },
    {
      "cell_type": "code",
      "source": [
        "print(\"Training Loader\")\n",
        "for x, y in trainLoader:\n",
        "  print(x.shape, y.shape)\n",
        "print(\"Validation Loader\")\n",
        "for x, y in validationLoader:\n",
        "  print(x.shape, y.shape)"
      ],
      "metadata": {
        "colab": {
          "base_uri": "https://localhost:8080/"
        },
        "id": "6dob1EI0IDPP",
        "outputId": "06a43564-1e5a-4a17-86e2-8ccf139e1d05"
      },
      "execution_count": 121,
      "outputs": [
        {
          "output_type": "stream",
          "name": "stdout",
          "text": [
            "Training Loader\n",
            "torch.Size([2, 256]) torch.Size([2, 256])\n",
            "torch.Size([2, 256]) torch.Size([2, 256])\n",
            "torch.Size([2, 256]) torch.Size([2, 256])\n",
            "torch.Size([2, 256]) torch.Size([2, 256])\n",
            "torch.Size([2, 256]) torch.Size([2, 256])\n",
            "torch.Size([2, 256]) torch.Size([2, 256])\n",
            "torch.Size([2, 256]) torch.Size([2, 256])\n",
            "torch.Size([2, 256]) torch.Size([2, 256])\n",
            "torch.Size([2, 256]) torch.Size([2, 256])\n",
            "Validation Loader\n",
            "torch.Size([2, 256]) torch.Size([2, 256])\n"
          ]
        }
      ]
    },
    {
      "cell_type": "code",
      "source": [
        "trainingTokens = 0\n",
        "for inputBatch, targetBatch in trainLoader:\n",
        "  trainingTokens += inputBatch.numel()\n",
        "validationTokens = 0\n",
        "for inputBatch, targetBatch in validationLoader:\n",
        "  validationTokens += inputBatch.numel()\n",
        "print(\"Training Tokens: \", trainingTokens)\n",
        "print(\"Validation Tokens: \", validationTokens)\n",
        "print(\"Total Tokens:\", totalTokens)"
      ],
      "metadata": {
        "colab": {
          "base_uri": "https://localhost:8080/"
        },
        "id": "zmmSq_-NIhd-",
        "outputId": "19a73e05-65bc-45d0-9410-5f8b97622205"
      },
      "execution_count": 122,
      "outputs": [
        {
          "output_type": "stream",
          "name": "stdout",
          "text": [
            "Training Tokens:  4608\n",
            "Validation Tokens:  512\n",
            "Total Tokens: 5145\n"
          ]
        }
      ]
    },
    {
      "cell_type": "markdown",
      "source": [
        "* Calclating Cross Entropy Loss"
      ],
      "metadata": {
        "id": "DOjpMHLgJDEX"
      }
    },
    {
      "cell_type": "code",
      "source": [
        "def calculateLossBatch(inputBatch, targetBatch, model, device):\n",
        "  inputBatch, targetBatch = inputBatch.to(device), targetBatch.to(device)\n",
        "  logits = model(inputBatch)\n",
        "  loss = torch.nn.functional.cross_entropy(logits.flatten(0,1), targetBatch.flatten(), ignore_index = 0)\n",
        "  return loss\n",
        "\n",
        "def calculateLossLoader(dataLoaderV1, model, device, num_batches = None):\n",
        "  totalLoss = 0\n",
        "  if(len(dataLoaderV1) == 0): return float(\"nan\")\n",
        "  elif num_batches is None: num_batches = len(dataLoaderV1)\n",
        "  else:\n",
        "    # Reduce the number of batches to match the total no of batches in data loader\n",
        "    num_batches = min(num_batches, len(dataLoaderV1))\n",
        "  for i, (inputBatch, targetBatch) in enumerate(dataLoaderV1):\n",
        "    if i< num_batches:\n",
        "      loss = calculateLossBatch(inputBatch, targetBatch, model, device)\n",
        "      totalLoss += loss.item()\n",
        "    else : break\n",
        "  return totalLoss/num_batches # Mean Loss per batch"
      ],
      "metadata": {
        "id": "KRV4TW5tJGpu"
      },
      "execution_count": 123,
      "outputs": []
    },
    {
      "cell_type": "code",
      "source": [
        "device = torch.device(\"cuda\" if torch.cuda.is_available() else \"cpu\")\n",
        "print(device)\n",
        "# NOTE: Connected to T4 GPU on COLAB thats why it is printing CUDA and execution time is less"
      ],
      "metadata": {
        "colab": {
          "base_uri": "https://localhost:8080/"
        },
        "id": "CNbEFibwJd1d",
        "outputId": "566c97d5-3db7-4484-c0b8-77cb4a2b6edd"
      },
      "execution_count": 124,
      "outputs": [
        {
          "output_type": "stream",
          "name": "stdout",
          "text": [
            "cuda\n"
          ]
        }
      ]
    },
    {
      "cell_type": "code",
      "source": [
        "model.to(device)"
      ],
      "metadata": {
        "colab": {
          "base_uri": "https://localhost:8080/"
        },
        "id": "FKWFoyR3KrAY",
        "outputId": "b94fc201-f97d-4c64-e0cf-822f3bbecc12"
      },
      "execution_count": 125,
      "outputs": [
        {
          "output_type": "execute_result",
          "data": {
            "text/plain": [
              "GPTModel(\n",
              "  (tokenEmbeddings): Embedding(50257, 768)\n",
              "  (positionalEmbeddings): Embedding(256, 768)\n",
              "  (dropuoutEmbeddings): Dropout(p=0.1, inplace=False)\n",
              "  (transformerBlock): Sequential(\n",
              "    (0): TransformerBlock(\n",
              "      (attention): MultiHeadAttention(\n",
              "        (W_query): Linear(in_features=768, out_features=768, bias=False)\n",
              "        (W_key): Linear(in_features=768, out_features=768, bias=False)\n",
              "        (W_value): Linear(in_features=768, out_features=768, bias=False)\n",
              "        (out_proj): Linear(in_features=768, out_features=768, bias=True)\n",
              "        (dropout): Dropout(p=0.1, inplace=False)\n",
              "      )\n",
              "      (feedforwardNN): FeedForward(\n",
              "        (layers): Sequential(\n",
              "          (0): Linear(in_features=768, out_features=3072, bias=True)\n",
              "          (1): GELU(approximate='none')\n",
              "          (2): Linear(in_features=3072, out_features=768, bias=True)\n",
              "        )\n",
              "      )\n",
              "      (normalization1): LayerNorm()\n",
              "      (normalization2): LayerNorm()\n",
              "      (drop_shortcut): Dropout(p=0.1, inplace=False)\n",
              "    )\n",
              "    (1): TransformerBlock(\n",
              "      (attention): MultiHeadAttention(\n",
              "        (W_query): Linear(in_features=768, out_features=768, bias=False)\n",
              "        (W_key): Linear(in_features=768, out_features=768, bias=False)\n",
              "        (W_value): Linear(in_features=768, out_features=768, bias=False)\n",
              "        (out_proj): Linear(in_features=768, out_features=768, bias=True)\n",
              "        (dropout): Dropout(p=0.1, inplace=False)\n",
              "      )\n",
              "      (feedforwardNN): FeedForward(\n",
              "        (layers): Sequential(\n",
              "          (0): Linear(in_features=768, out_features=3072, bias=True)\n",
              "          (1): GELU(approximate='none')\n",
              "          (2): Linear(in_features=3072, out_features=768, bias=True)\n",
              "        )\n",
              "      )\n",
              "      (normalization1): LayerNorm()\n",
              "      (normalization2): LayerNorm()\n",
              "      (drop_shortcut): Dropout(p=0.1, inplace=False)\n",
              "    )\n",
              "    (2): TransformerBlock(\n",
              "      (attention): MultiHeadAttention(\n",
              "        (W_query): Linear(in_features=768, out_features=768, bias=False)\n",
              "        (W_key): Linear(in_features=768, out_features=768, bias=False)\n",
              "        (W_value): Linear(in_features=768, out_features=768, bias=False)\n",
              "        (out_proj): Linear(in_features=768, out_features=768, bias=True)\n",
              "        (dropout): Dropout(p=0.1, inplace=False)\n",
              "      )\n",
              "      (feedforwardNN): FeedForward(\n",
              "        (layers): Sequential(\n",
              "          (0): Linear(in_features=768, out_features=3072, bias=True)\n",
              "          (1): GELU(approximate='none')\n",
              "          (2): Linear(in_features=3072, out_features=768, bias=True)\n",
              "        )\n",
              "      )\n",
              "      (normalization1): LayerNorm()\n",
              "      (normalization2): LayerNorm()\n",
              "      (drop_shortcut): Dropout(p=0.1, inplace=False)\n",
              "    )\n",
              "    (3): TransformerBlock(\n",
              "      (attention): MultiHeadAttention(\n",
              "        (W_query): Linear(in_features=768, out_features=768, bias=False)\n",
              "        (W_key): Linear(in_features=768, out_features=768, bias=False)\n",
              "        (W_value): Linear(in_features=768, out_features=768, bias=False)\n",
              "        (out_proj): Linear(in_features=768, out_features=768, bias=True)\n",
              "        (dropout): Dropout(p=0.1, inplace=False)\n",
              "      )\n",
              "      (feedforwardNN): FeedForward(\n",
              "        (layers): Sequential(\n",
              "          (0): Linear(in_features=768, out_features=3072, bias=True)\n",
              "          (1): GELU(approximate='none')\n",
              "          (2): Linear(in_features=3072, out_features=768, bias=True)\n",
              "        )\n",
              "      )\n",
              "      (normalization1): LayerNorm()\n",
              "      (normalization2): LayerNorm()\n",
              "      (drop_shortcut): Dropout(p=0.1, inplace=False)\n",
              "    )\n",
              "    (4): TransformerBlock(\n",
              "      (attention): MultiHeadAttention(\n",
              "        (W_query): Linear(in_features=768, out_features=768, bias=False)\n",
              "        (W_key): Linear(in_features=768, out_features=768, bias=False)\n",
              "        (W_value): Linear(in_features=768, out_features=768, bias=False)\n",
              "        (out_proj): Linear(in_features=768, out_features=768, bias=True)\n",
              "        (dropout): Dropout(p=0.1, inplace=False)\n",
              "      )\n",
              "      (feedforwardNN): FeedForward(\n",
              "        (layers): Sequential(\n",
              "          (0): Linear(in_features=768, out_features=3072, bias=True)\n",
              "          (1): GELU(approximate='none')\n",
              "          (2): Linear(in_features=3072, out_features=768, bias=True)\n",
              "        )\n",
              "      )\n",
              "      (normalization1): LayerNorm()\n",
              "      (normalization2): LayerNorm()\n",
              "      (drop_shortcut): Dropout(p=0.1, inplace=False)\n",
              "    )\n",
              "    (5): TransformerBlock(\n",
              "      (attention): MultiHeadAttention(\n",
              "        (W_query): Linear(in_features=768, out_features=768, bias=False)\n",
              "        (W_key): Linear(in_features=768, out_features=768, bias=False)\n",
              "        (W_value): Linear(in_features=768, out_features=768, bias=False)\n",
              "        (out_proj): Linear(in_features=768, out_features=768, bias=True)\n",
              "        (dropout): Dropout(p=0.1, inplace=False)\n",
              "      )\n",
              "      (feedforwardNN): FeedForward(\n",
              "        (layers): Sequential(\n",
              "          (0): Linear(in_features=768, out_features=3072, bias=True)\n",
              "          (1): GELU(approximate='none')\n",
              "          (2): Linear(in_features=3072, out_features=768, bias=True)\n",
              "        )\n",
              "      )\n",
              "      (normalization1): LayerNorm()\n",
              "      (normalization2): LayerNorm()\n",
              "      (drop_shortcut): Dropout(p=0.1, inplace=False)\n",
              "    )\n",
              "    (6): TransformerBlock(\n",
              "      (attention): MultiHeadAttention(\n",
              "        (W_query): Linear(in_features=768, out_features=768, bias=False)\n",
              "        (W_key): Linear(in_features=768, out_features=768, bias=False)\n",
              "        (W_value): Linear(in_features=768, out_features=768, bias=False)\n",
              "        (out_proj): Linear(in_features=768, out_features=768, bias=True)\n",
              "        (dropout): Dropout(p=0.1, inplace=False)\n",
              "      )\n",
              "      (feedforwardNN): FeedForward(\n",
              "        (layers): Sequential(\n",
              "          (0): Linear(in_features=768, out_features=3072, bias=True)\n",
              "          (1): GELU(approximate='none')\n",
              "          (2): Linear(in_features=3072, out_features=768, bias=True)\n",
              "        )\n",
              "      )\n",
              "      (normalization1): LayerNorm()\n",
              "      (normalization2): LayerNorm()\n",
              "      (drop_shortcut): Dropout(p=0.1, inplace=False)\n",
              "    )\n",
              "    (7): TransformerBlock(\n",
              "      (attention): MultiHeadAttention(\n",
              "        (W_query): Linear(in_features=768, out_features=768, bias=False)\n",
              "        (W_key): Linear(in_features=768, out_features=768, bias=False)\n",
              "        (W_value): Linear(in_features=768, out_features=768, bias=False)\n",
              "        (out_proj): Linear(in_features=768, out_features=768, bias=True)\n",
              "        (dropout): Dropout(p=0.1, inplace=False)\n",
              "      )\n",
              "      (feedforwardNN): FeedForward(\n",
              "        (layers): Sequential(\n",
              "          (0): Linear(in_features=768, out_features=3072, bias=True)\n",
              "          (1): GELU(approximate='none')\n",
              "          (2): Linear(in_features=3072, out_features=768, bias=True)\n",
              "        )\n",
              "      )\n",
              "      (normalization1): LayerNorm()\n",
              "      (normalization2): LayerNorm()\n",
              "      (drop_shortcut): Dropout(p=0.1, inplace=False)\n",
              "    )\n",
              "    (8): TransformerBlock(\n",
              "      (attention): MultiHeadAttention(\n",
              "        (W_query): Linear(in_features=768, out_features=768, bias=False)\n",
              "        (W_key): Linear(in_features=768, out_features=768, bias=False)\n",
              "        (W_value): Linear(in_features=768, out_features=768, bias=False)\n",
              "        (out_proj): Linear(in_features=768, out_features=768, bias=True)\n",
              "        (dropout): Dropout(p=0.1, inplace=False)\n",
              "      )\n",
              "      (feedforwardNN): FeedForward(\n",
              "        (layers): Sequential(\n",
              "          (0): Linear(in_features=768, out_features=3072, bias=True)\n",
              "          (1): GELU(approximate='none')\n",
              "          (2): Linear(in_features=3072, out_features=768, bias=True)\n",
              "        )\n",
              "      )\n",
              "      (normalization1): LayerNorm()\n",
              "      (normalization2): LayerNorm()\n",
              "      (drop_shortcut): Dropout(p=0.1, inplace=False)\n",
              "    )\n",
              "    (9): TransformerBlock(\n",
              "      (attention): MultiHeadAttention(\n",
              "        (W_query): Linear(in_features=768, out_features=768, bias=False)\n",
              "        (W_key): Linear(in_features=768, out_features=768, bias=False)\n",
              "        (W_value): Linear(in_features=768, out_features=768, bias=False)\n",
              "        (out_proj): Linear(in_features=768, out_features=768, bias=True)\n",
              "        (dropout): Dropout(p=0.1, inplace=False)\n",
              "      )\n",
              "      (feedforwardNN): FeedForward(\n",
              "        (layers): Sequential(\n",
              "          (0): Linear(in_features=768, out_features=3072, bias=True)\n",
              "          (1): GELU(approximate='none')\n",
              "          (2): Linear(in_features=3072, out_features=768, bias=True)\n",
              "        )\n",
              "      )\n",
              "      (normalization1): LayerNorm()\n",
              "      (normalization2): LayerNorm()\n",
              "      (drop_shortcut): Dropout(p=0.1, inplace=False)\n",
              "    )\n",
              "    (10): TransformerBlock(\n",
              "      (attention): MultiHeadAttention(\n",
              "        (W_query): Linear(in_features=768, out_features=768, bias=False)\n",
              "        (W_key): Linear(in_features=768, out_features=768, bias=False)\n",
              "        (W_value): Linear(in_features=768, out_features=768, bias=False)\n",
              "        (out_proj): Linear(in_features=768, out_features=768, bias=True)\n",
              "        (dropout): Dropout(p=0.1, inplace=False)\n",
              "      )\n",
              "      (feedforwardNN): FeedForward(\n",
              "        (layers): Sequential(\n",
              "          (0): Linear(in_features=768, out_features=3072, bias=True)\n",
              "          (1): GELU(approximate='none')\n",
              "          (2): Linear(in_features=3072, out_features=768, bias=True)\n",
              "        )\n",
              "      )\n",
              "      (normalization1): LayerNorm()\n",
              "      (normalization2): LayerNorm()\n",
              "      (drop_shortcut): Dropout(p=0.1, inplace=False)\n",
              "    )\n",
              "    (11): TransformerBlock(\n",
              "      (attention): MultiHeadAttention(\n",
              "        (W_query): Linear(in_features=768, out_features=768, bias=False)\n",
              "        (W_key): Linear(in_features=768, out_features=768, bias=False)\n",
              "        (W_value): Linear(in_features=768, out_features=768, bias=False)\n",
              "        (out_proj): Linear(in_features=768, out_features=768, bias=True)\n",
              "        (dropout): Dropout(p=0.1, inplace=False)\n",
              "      )\n",
              "      (feedforwardNN): FeedForward(\n",
              "        (layers): Sequential(\n",
              "          (0): Linear(in_features=768, out_features=3072, bias=True)\n",
              "          (1): GELU(approximate='none')\n",
              "          (2): Linear(in_features=3072, out_features=768, bias=True)\n",
              "        )\n",
              "      )\n",
              "      (normalization1): LayerNorm()\n",
              "      (normalization2): LayerNorm()\n",
              "      (drop_shortcut): Dropout(p=0.1, inplace=False)\n",
              "    )\n",
              "  )\n",
              "  (finalNormalization): LayerNorm()\n",
              "  (out_head): Linear(in_features=768, out_features=50257, bias=False)\n",
              ")"
            ]
          },
          "metadata": {},
          "execution_count": 125
        }
      ]
    },
    {
      "cell_type": "code",
      "source": [
        "torch.manual_seed(123)\n",
        "with torch.no_grad(): # Disabling gradient tracking for efficiency because we are not training yet\n",
        "  trainingLoss = calculateLossLoader(trainLoader, model, device)\n",
        "  validationLoss = calculateLossLoader(validationLoader, model, device)\n",
        "print(\"Training Loss: \", trainingLoss)\n",
        "print(\"Validation Loss: \", validationLoss)\n"
      ],
      "metadata": {
        "colab": {
          "base_uri": "https://localhost:8080/"
        },
        "id": "ke0cAPxaKwjf",
        "outputId": "de4d4f18-95bf-4f68-d0ea-0803bee9336f"
      },
      "execution_count": 126,
      "outputs": [
        {
          "output_type": "stream",
          "name": "stdout",
          "text": [
            "Training Loss:  10.98753579457601\n",
            "Validation Loss:  10.983574867248535\n"
          ]
        }
      ]
    },
    {
      "cell_type": "markdown",
      "source": [
        "# PRETRAINING LOOP (Minimizing Loss)\n",
        "![image.png](data:image/png;base64,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)"
      ],
      "metadata": {
        "id": "kkEauSqKTBPR"
      }
    },
    {
      "cell_type": "markdown",
      "source": [
        "# Training LOOP\n"
      ],
      "metadata": {
        "id": "tp84hOxot2_c"
      }
    },
    {
      "cell_type": "code",
      "source": [
        "def trainModel(model, trainLoader, validationLoader,\n",
        "               optimizer, device, numOfEpochs, evalFreq, evalIter, startContext, tokenizer):\n",
        "    trainLosses, validationLosses, trackSeenTokens = [], [], []\n",
        "    tokensSeen, globalStep = 0, -1\n",
        "\n",
        "    for epoch in range(numOfEpochs):\n",
        "        model.train()  # Set Model for training\n",
        "        for inputBatch, targetBatch in trainLoader:\n",
        "            optimizer.zero_grad()  # Clear gradients\n",
        "            loss = calculateLossBatch(inputBatch, targetBatch, model, device)\n",
        "            loss.backward()  # Calculate loss gradients\n",
        "            optimizer.step()  # Update model parameters\n",
        "            tokensSeen += inputBatch.numel()\n",
        "            globalStep += 1\n",
        "\n",
        "            # Optional eval step\n",
        "            if globalStep % evalFreq == 0:\n",
        "                trainingLoss, validationLoss = evaluateModel(model, trainLoader, validationLoader, evalIter)\n",
        "                trainLosses.append(trainingLoss)\n",
        "                validationLosses.append(validationLoss)\n",
        "                trackSeenTokens.append(tokensSeen)\n",
        "                print(f\"Epoch {epoch+1} (Step {globalStep:06d}): Training Loss: {trainingLoss:.4f}, Validation Loss: {validationLoss:.4f}\")\n",
        "\n",
        "        print(f\"Sample Generation After Epoch {epoch+1} :\")\n",
        "        generateAndPrintSample(model, startContext, tokenizer, device)\n",
        "        print()\n",
        "\n",
        "    return trainLosses, validationLosses, trackSeenTokens\n"
      ],
      "metadata": {
        "id": "mkK6A1swTGjr"
      },
      "execution_count": 127,
      "outputs": []
    },
    {
      "cell_type": "code",
      "source": [
        "def evaluateModel(model, trainLoader, validationLoader, evalIter):\n",
        "  model.eval() # Set model for evaluation\n",
        "  with torch.no_grad():\n",
        "    trainingLoss = calculateLossLoader(trainLoader, model, device, num_batches= evalIter)\n",
        "    validationLoss = calculateLossLoader(validationLoader, model, device, num_batches= evalIter)\n",
        "  model.train()\n",
        "  return trainingLoss, validationLoss"
      ],
      "metadata": {
        "id": "egx-_wn3vhNq"
      },
      "execution_count": 128,
      "outputs": []
    },
    {
      "cell_type": "code",
      "source": [
        "def generateAndPrintSample(model, startContext, tokenizer, device):\n",
        "  model.eval()\n",
        "  contextSize = model.positionalEmbeddings.weight.shape[0]\n",
        "  encoded = textToTokenId(startContext, tokenizer).to(device)\n",
        "  with torch.no_grad():\n",
        "    tokenIds = generateText(model= model, idx = encoded, maxNewTokens=50,contextSize= contextSize, )\n",
        "  decodedText = tokenIdtoText(tokenIds, tokenizer)\n",
        "  print(decodedText.replace(\"\\n\", \" \"))\n",
        "  model.train()"
      ],
      "metadata": {
        "id": "98t6wGfdynb3"
      },
      "execution_count": 129,
      "outputs": []
    },
    {
      "cell_type": "code",
      "source": [
        "# Model Training\n",
        "import time\n",
        "startingTime = time.time()\n",
        "torch.manual_seed(123)\n",
        "model = GPTModel(GPT_CONFIG_124M)\n",
        "model.to(device)\n",
        "optimizer = torch.optim.AdamW(model.parameters(), lr = 0.0004, weight_decay=0.1)\n",
        "numOfEpochs = 20\n",
        "trainLosses, validationLosses, tokensSeen = trainModel(\n",
        "    model,\n",
        "    trainLoader,\n",
        "    validationLoader,\n",
        "    optimizer,\n",
        "    device,\n",
        "    numOfEpochs=numOfEpochs,\n",
        "    evalFreq= 5,\n",
        "    evalIter= 5,\n",
        "    startContext= \"Every effort moves you\",\n",
        "    tokenizer = tokenizer\n",
        ")\n",
        "endingTime = time.time()\n",
        "totalExecutionTime = (endingTime - startingTime) / 60\n",
        "print(f\"Training completed in {totalExecutionTime: .2f} minutes\")"
      ],
      "metadata": {
        "colab": {
          "base_uri": "https://localhost:8080/"
        },
        "id": "UYC53Vfh0F3N",
        "outputId": "dfda41b1-69a4-469f-8739-6687b9c45536"
      },
      "execution_count": 130,
      "outputs": [
        {
          "output_type": "stream",
          "name": "stdout",
          "text": [
            "Epoch 1 (Step 000000): Training Loss: 9.8149, Validation Loss: 9.9248\n",
            "Epoch 1 (Step 000005): Training Loss: 8.0614, Validation Loss: 8.3298\n",
            "Sample Generation After Epoch 1 :\n",
            "Every effort moves you,,,,,,,,,,,,.                                     \n",
            "\n",
            "Epoch 2 (Step 000010): Training Loss: 6.6193, Validation Loss: 7.0485\n",
            "Epoch 2 (Step 000015): Training Loss: 6.0444, Validation Loss: 6.6025\n",
            "Sample Generation After Epoch 2 :\n",
            "Every effort moves you, and,, and,,,,,,, and,.                                   \n",
            "\n",
            "Epoch 3 (Step 000020): Training Loss: 5.5286, Validation Loss: 6.5063\n",
            "Epoch 3 (Step 000025): Training Loss: 5.3884, Validation Loss: 6.3860\n",
            "Sample Generation After Epoch 3 :\n",
            "Every effort moves you, and to the to the of the to the, and I had. Gis, and, and, and, and, and, and I had the, and, and, and, and, and, and, and, and, and\n",
            "\n",
            "Epoch 4 (Step 000030): Training Loss: 4.8826, Validation Loss: 6.2777\n",
            "Epoch 4 (Step 000035): Training Loss: 4.6250, Validation Loss: 6.2945\n",
            "Sample Generation After Epoch 4 :\n",
            "Every effort moves you.  \"I the picture.                    \"I\"I the picture\"I had the the honour of the picture and I had been the picture of\n",
            "\n",
            "Epoch 5 (Step 000040): Training Loss: 4.0017, Validation Loss: 6.1562\n",
            "Sample Generation After Epoch 5 :\n",
            "Every effort moves you know the                                                \n",
            "\n",
            "Epoch 6 (Step 000045): Training Loss: 3.5997, Validation Loss: 6.1664\n",
            "Epoch 6 (Step 000050): Training Loss: 3.0192, Validation Loss: 6.1411\n",
            "Sample Generation After Epoch 6 :\n",
            "Every effort moves you know the was his a little the.  \"I had the last word.           \"Oh, and I had a little him.  \"I looked, and I had a little of\n",
            "\n",
            "Epoch 7 (Step 000055): Training Loss: 2.9145, Validation Loss: 6.1794\n",
            "Epoch 7 (Step 000060): Training Loss: 2.2011, Validation Loss: 6.1244\n",
            "Sample Generation After Epoch 7 :\n",
            "Every effort moves you know the picture to have been too? I felt, and Mrs.  \"I was no--I turned, I felt to see a smile behind his pictures--I looked up at the honour of the donkey, and were, and I was\n",
            "\n",
            "Epoch 8 (Step 000065): Training Loss: 1.7483, Validation Loss: 6.1598\n",
            "Epoch 8 (Step 000070): Training Loss: 1.4527, Validation Loss: 6.2284\n",
            "Sample Generation After Epoch 8 :\n",
            "Every effort moves you?\"  \"Yes--quite insensible to the fact with the last word. Gisburn's an awful simpleton, and Mrs. Gisburn's head to look up at the honour of the donkey. \"There were days when I\n",
            "\n",
            "Epoch 9 (Step 000075): Training Loss: 1.1153, Validation Loss: 6.2589\n",
            "Epoch 9 (Step 000080): Training Loss: 0.8390, Validation Loss: 6.2932\n",
            "Sample Generation After Epoch 9 :\n",
            "Every effort moves you?\"  \"Yes--quite insensible to the fact with such--had not till, and moustache, I felt to see a smile behind his close grayish beard--as if he had the donkey. \"There were days when I\n",
            "\n",
            "Epoch 10 (Step 000085): Training Loss: 0.6122, Validation Loss: 6.3735\n",
            "Sample Generation After Epoch 10 :\n",
            "Every effort moves you?\"  \"Yes--quite insensible to the irony. She wanted him vindicated--and by me!\"  He laughed again, and threw back his head to look up at the sketch of the donkey. \"There were days when I\n",
            "\n",
            "Epoch 11 (Step 000090): Training Loss: 0.4518, Validation Loss: 6.4080\n",
            "Epoch 11 (Step 000095): Training Loss: 0.3481, Validation Loss: 6.4336\n",
            "Sample Generation After Epoch 11 :\n",
            "Every effort moves you?\"  \"Yes--quite insensible to the irony. She wanted him vindicated--and by me!\"  He laughed again, and threw back his head to look up at the sketch of the donkey. \"There were days when I\n",
            "\n",
            "Epoch 12 (Step 000100): Training Loss: 0.2615, Validation Loss: 6.5348\n",
            "Epoch 12 (Step 000105): Training Loss: 0.1775, Validation Loss: 6.5517\n",
            "Sample Generation After Epoch 12 :\n",
            "Every effort moves you?\"  \"Yes--quite insensible to the irony. She wanted him vindicated--and by me!\"  He laughed again, and threw back the window-curtains, moved aside a _jardiniere_ full of\n",
            "\n",
            "Epoch 13 (Step 000110): Training Loss: 0.1556, Validation Loss: 6.6333\n",
            "Epoch 13 (Step 000115): Training Loss: 0.1480, Validation Loss: 6.7218\n",
            "Sample Generation After Epoch 13 :\n",
            "Every effort moves you?\"  \"Yes--quite insensible to the irony. She wanted him vindicated--and by me!\"  He laughed again, and threw back his head to look up at the sketch of the donkey. \"There were days when I\n",
            "\n",
            "Epoch 14 (Step 000120): Training Loss: 0.1051, Validation Loss: 6.7864\n",
            "Epoch 14 (Step 000125): Training Loss: 0.0833, Validation Loss: 6.8183\n",
            "Sample Generation After Epoch 14 :\n",
            "Every effort moves you?\"  \"Yes--quite insensible to the irony. She wanted him vindicated--and by me!\"  He laughed again, and threw back his head to look up at the sketch of the donkey. \"There were days when I\n",
            "\n",
            "Epoch 15 (Step 000130): Training Loss: 0.0584, Validation Loss: 6.9148\n",
            "Sample Generation After Epoch 15 :\n",
            "Every effort moves you?\"  \"Yes--quite insensible to the irony. She wanted him vindicated--and by me!\"  He laughed again, and threw back his head to look up at the sketch of the donkey. \"There were days when I\n",
            "\n",
            "Epoch 16 (Step 000135): Training Loss: 0.0615, Validation Loss: 6.8842\n",
            "Epoch 16 (Step 000140): Training Loss: 0.0954, Validation Loss: 7.0108\n",
            "Sample Generation After Epoch 16 :\n",
            "Every effort moves you?\"  \"Yes--quite insensible to the irony. She wanted him vindicated--and by me!\"  He laughed again, and threw back the window-curtains, moved aside a _jardiniere_ full of\n",
            "\n",
            "Epoch 17 (Step 000145): Training Loss: 0.0638, Validation Loss: 6.9786\n",
            "Epoch 17 (Step 000150): Training Loss: 0.0454, Validation Loss: 6.9692\n",
            "Sample Generation After Epoch 17 :\n",
            "Every effort moves you?\"  \"Yes--quite insensible to the irony. She wanted him vindicated--and by me!\"  He laughed again, and threw back his head to look up at the sketch of the donkey. \"There were days when I\n",
            "\n",
            "Epoch 18 (Step 000155): Training Loss: 0.0391, Validation Loss: 7.0515\n",
            "Epoch 18 (Step 000160): Training Loss: 0.0371, Validation Loss: 7.0435\n",
            "Sample Generation After Epoch 18 :\n",
            "Every effort moves you?\"  \"Yes--quite insensible to the irony. She wanted him vindicated--and by me!\"  He laughed again, and threw back his head to look up at the sketch of the donkey. \"There were days when I\n",
            "\n",
            "Epoch 19 (Step 000165): Training Loss: 0.0300, Validation Loss: 7.0898\n",
            "Epoch 19 (Step 000170): Training Loss: 0.0224, Validation Loss: 7.1355\n",
            "Sample Generation After Epoch 19 :\n",
            "Every effort moves you?\"  \"Yes--quite insensible to the irony. She wanted him vindicated--and by me!\"  He laughed again, and threw back his head to look up at the sketch of the donkey. \"There were days when I\n",
            "\n",
            "Epoch 20 (Step 000175): Training Loss: 0.0298, Validation Loss: 7.1352\n",
            "Sample Generation After Epoch 20 :\n",
            "Every effort moves you?\"  \"Yes--quite insensible to the irony. She wanted him vindicated--and by me!\"  He laughed again, and threw back his head to look up at the sketch of the donkey. \"There were days when I\n",
            "\n",
            "Training completed in  0.94 minutes\n"
          ]
        }
      ]
    },
    {
      "cell_type": "markdown",
      "source": [
        "* Validation Loss is much larger than raining loss this indicates model is overfitted  "
      ],
      "metadata": {
        "id": "HyDSmgWC7QZA"
      }
    },
    {
      "cell_type": "code",
      "source": [
        "import matplotlib.pyplot as plt\n",
        "from matplotlib.ticker import MaxNLocator\n",
        "def plotLosses(epochsSeen, tokensSeen, trainLosses, validationLosses):\n",
        "  fig, ax = plt.subplots(figsize=(5,3))\n",
        "  ax.plot(epochsSeen, trainLosses, label=\"Training Loss\")\n",
        "  ax.plot(epochsSeen, validationLosses, label=\"Validation Loss\")\n",
        "  ax.set_xlabel(\"Epochs\")\n",
        "  ax.set_ylabel(\"Loss\")\n",
        "  ax.legend(loc = \"upper right\")\n",
        "  ax.xaxis.set_major_locator(MaxNLocator(integer=True)) # only show integer labels\n",
        "\n",
        "\n",
        "  #Second x axis for tokens seen'\n",
        "  ax2 = ax.twiny() # shares same y axis\n",
        "  ax2.plot(tokensSeen, trainLosses, label=\"Training Loss\")\n",
        "  ax2.plot(tokensSeen, validationLosses, label=\"Validation Loss\")\n",
        "  ax2.set_xlabel(\"Tokens Seen\")\n",
        "  ax2.legend(loc = \"upper left\")\n",
        "\n",
        "  fig.tight_layout()\n",
        "  plt.show()\n",
        "\n",
        "epochsTensor = torch.linspace(0, numOfEpochs, len(trainLosses))\n",
        "plotLosses(epochsTensor, tokensSeen, trainLosses, validationLosses)\n"
      ],
      "metadata": {
        "colab": {
          "base_uri": "https://localhost:8080/",
          "height": 307
        },
        "id": "HvxupeFE50D0",
        "outputId": "13d62ec9-4a62-4ea8-f710-e1811991dfad"
      },
      "execution_count": 131,
      "outputs": [
        {
          "output_type": "display_data",
          "data": {
            "text/plain": [
              "<Figure size 500x300 with 2 Axes>"
            ],
            "image/png": "[encoded data removed]"
          },
          "metadata": {}
        }
      ]
    }
  ]
}