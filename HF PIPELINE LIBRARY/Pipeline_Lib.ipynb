{
 "cells": [
  {
   "cell_type": "markdown",
   "metadata": {
    "id": "AT86Sr3pUZpz"
   },
   "source": [
    "# Various Tasks That Transformers Can Perform Using Pipeline Library\n"
   ]
  },
  {
   "cell_type": "code",
   "execution_count": null,
   "metadata": {
    "colab": {
     "base_uri": "https://localhost:8080/"
    },
    "id": "L5UyWWF0Ll8q",
    "outputId": "fa9806b7-3d45-4a3e-f2cb-e6fc4cad43de"
   },
   "outputs": [],
   "source": [
    "!pip install transformers"
   ]
  },
  {
   "cell_type": "code",
   "execution_count": null,
   "metadata": {
    "id": "VdCOsmLKMXln"
   },
   "outputs": [],
   "source": [
    "import transformers"
   ]
  },
  {
   "cell_type": "code",
   "execution_count": null,
   "metadata": {
    "id": "ZjsZKIOsMo4B"
   },
   "outputs": [],
   "source": [
    "from transformers import pipeline"
   ]
  },
  {
   "cell_type": "markdown",
   "metadata": {
    "id": "Li7uPG9rPsah"
   },
   "source": [
    "By default, this pipeline selects a particular pretrained model that has been fine-tuned for sentiment analysis in English. The model is downloaded and cached when you create the classifier object\n"
   ]
  },
  {
   "cell_type": "code",
   "execution_count": null,
   "metadata": {
    "colab": {
     "base_uri": "https://localhost:8080/",
     "height": 346,
     "referenced_widgets": [
      "363f8348118c4e8c99b911978d0ca319",
      "538fd6ce0d1f48cfbb37ecc8a4d9c369",
      "a711c160fa144904bf9538ac0cd052cf",
      "facc83f8b5574a6193ee82edb458f878",
      "6ea9f9d733434f7da448a64c490f1b3f",
      "fbc4707afb7249769544d617747523d2",
      "51d7e4aa5ef845108aca9d444db87107",
      "15c8c1d2fea543ca87fa16e8b1fefd5d",
      "b76eed9ad7ac4d6f913648dc99c23037",
      "b31220bbfbbb4c88b017016680a3d78b",
      "78e889170bf04eda8e62d73d690ef536",
      "62d8e6fefafe42a988af607b91d8212e",
      "45e3dfd6d1484ddca81f3313ff6d0442",
      "3951f4b4e81d4179b9216c3d4835f3d6",
      "a2a59fb8324a44f5b905590f4550fbe9",
      "e532ae95925d47a6a52f9a76156e6ad7",
      "73ed701e50b44dd48f8a3fab136d8ecf",
      "db13f891e8f44b459d3cb0c02d829ec6",
      "ef323bac7829439db34ff1fcc700a0ee",
      "6bb59eee611d409a967be56a52dd5a62",
      "24944a0756ff419fb20b019efe456ad1",
      "a2dd9cfb51f54e869a94ebd6312f83bf",
      "1501777f030e492cb5e5f541f9aff583",
      "35b98597281c4ae3a2e16fc7f6958888",
      "1afc8beb04eb4b88bbef605169e13a2f",
      "305c885cc6254db39d55ab1fdbf4f0ed",
      "422fe61b655b4ae1847db7371fcdab95",
      "2109ff139d5946018a7aa0d02b95152c",
      "b5f3b93b71cc4b0e84d1ef0f130b97e2",
      "8847cc0256a048f681ad8636c8aedcd7",
      "a3d32c3633b2489aae05f55adca22577",
      "179374730f6248ada30f35176b3bf434",
      "b88d1a294d3e489da4ba7125c9907c2f",
      "687167c20c8c4e7d823847d8609a1f8c",
      "d2c6088ca9e2412ab64f413c57ff850d",
      "b52615ad619844e79a3f556bae915d95",
      "a7d3934fa7134655a053e91b89d5fbcd",
      "ce0c1d06f764461892f5836e49efc2dc",
      "2e3e5338d74847f6b35038ddfeecb341",
      "8d503e9114074f5fbfd60fc5c08d80c1",
      "0f65023865d84f0cb506ed5cc6194ea5",
      "e8b6a209c9954340bd80e6f67ea44b7c",
      "07c8b3038f8746c49ba35798566319ef",
      "ee8db8a7fee241dcb2631825769b808b"
     ]
    },
    "id": "HCxWqHb-M2aH",
    "outputId": "b0bfb976-08b8-438f-d601-ac4065cf6be0"
   },
   "outputs": [],
   "source": [
    "sentenceClassifier = pipeline(\"sentiment-analysis\")\n",
    "sentenceClassifier(\"She completed the project ahead of schedule\")"
   ]
  },
  {
   "cell_type": "code",
   "execution_count": null,
   "metadata": {
    "colab": {
     "base_uri": "https://localhost:8080/"
    },
    "id": "C-jMbkO7PaBp",
    "outputId": "c00a6305-47bb-424e-ddeb-62008eff6477"
   },
   "outputs": [],
   "source": [
    "sentenceClassifier = pipeline(\"sentiment-analysis\")\n",
    "sentenceClassifier(\"The car didn’t start this morning\")"
   ]
  },
  {
   "cell_type": "markdown",
   "metadata": {
    "id": "0IPMpuQPP4at"
   },
   "source": [
    "There are three main steps involved when you pass some text to a pipeline:\n",
    "\n",
    "1) The text is preprocessed into a format the model can understand.\n",
    "2) The preprocessed inputs are passed to the model.\n",
    "3) The predictions of the model are post-processed, so you can make sense of them.\n"
   ]
  },
  {
   "cell_type": "markdown",
   "metadata": {
    "id": "yK-8d9kLQflB"
   },
   "source": [
    "1) Zero Shot Classification - No prior specific examples are provided. Model predicts the ans based on natural language description"
   ]
  },
  {
   "cell_type": "code",
   "execution_count": null,
   "metadata": {
    "colab": {
     "base_uri": "https://localhost:8080/",
     "height": 317,
     "referenced_widgets": [
      "60ac84ff89c545aea07c6af72ffde787",
      "10c07dac10954c10b8f0bc80c409c701",
      "278a63e5387f445dbbc1239fe6956ffc",
      "7a4ca6cc3fab4d929379b20c099d9b02",
      "7db790820df149f29001c1d70bffbf62",
      "77ae38c47b034da48ca1245fe58d3ce3",
      "b910dd81520344ffbf39e6969ab46b6e",
      "93cca19a107e4f57b2fb0c0bc49efcbc",
      "866e28f65def43bb8363f08c34d9afbc",
      "765284660b704c62b9611f6c8a8bc1ec",
      "d87f4017b0d74862a045b6f6c2a0fde5",
      "a3bbeb26aa15436998bce1c3e5034ee4",
      "28de33881d9546f895d2807a3364ab92",
      "65ffd93df43f4c2399335e73e6331808",
      "7a0582978679462ea2901192070b1d94",
      "c949527a99b8414d8819eae4c2d17d18",
      "0354c0faa8334674861735f4dce1fd12",
      "190dd109daa8414da2888d6b5fa6d665",
      "a84becdd154f4868aeac73be9ddc3b20",
      "e6330d761a974e2ca92557a18abd3c57",
      "1888f5fefeb74a9a9d8c389890303701",
      "55be7d8ba56945be924a30e14fb3cace",
      "3e53a9c1027f45f0bb7431e0dc9894d0",
      "dc6a2ba6f5744f6caacfc2da24c6e209",
      "3da0a83bbae9471791a027627b23a407",
      "014f1cfe7d4e4166a3f8d7a88b01c1ad",
      "510817ce91c4471cbce3a74730727c31",
      "95b668cf3ba94369bb7feeed08cff02d",
      "594e512585854d8a999fc561501f90a3",
      "26363c76ae1d4130a6e475929b04d8f7",
      "9e8a79074b3641a2afb197bc80999684",
      "7b124c0b685c4e17909f2b6078dbcdee",
      "35327d1d28b3442cb13953e851f676be",
      "d8143db53aaa478a9fc86c4bab780713",
      "44bcd53d37c54e32aa34de5b1f81fc13",
      "b249e5c6caba4bf09e9c4290d9a8097b",
      "94184e43316d4729a6d1ed244de54166",
      "cc899393f18d4212a659392753e823e3",
      "ca67e837a80b454fa7cb12baf6ef2233",
      "ce360bfaf90b459192ea615a091c963c",
      "158f65ef27284957bb4528ed3446ca1a",
      "c219ee119afa47d7a3b4d5717e57c3cf",
      "8a8a3e80be444dee964262b86602ba53",
      "99e94dfe5d4046c09487256d1743517f",
      "69d2c1fa50e74a1fb483686b7fffe721",
      "659390062d1848488adfbfb5ae3b5a57",
      "a47951e78c0048869733f134350602d7",
      "9b448ad9678143b98ba02fb7f8fbe7ae",
      "78e492bb57c848c385433050826ef2c7",
      "9df9cc804e414a3cb43ff76b2afd7853",
      "9234927c20054932ad105888bc4bb491",
      "daa82d5f32c347a88f1f7279abe3e737",
      "167aa6e0b9954d62b0a404182445efbd",
      "298a0d9032cd4a4f92e9d9142fe9ba3c",
      "ae970693588d474bbc1cf56c6d2651b8",
      "9064f0a47d9345c189a8d6f92a80cd1d",
      "a4f23d21941e4f44be4e92a752c4471a",
      "8a945e37ad7f4206be8c4a5557561e8d",
      "b08593c273704a8f9004426f8727fd7e",
      "a34bf59bee034de8bbcc62a9dd410383",
      "8c149deafd9c41788b77095a7e2c65ae",
      "7642156a8edc423eadf15cf23f721c77",
      "e08c91d9c2284dad8ed3f611e9cc1cca",
      "6eb4787732a94685b549b10b66557639",
      "72f5dcd14a424443b0f5747db39d17db",
      "60a7a4c191114f1dbc6cf8e65541ed9c"
     ]
    },
    "id": "M5MfojcSP5Zu",
    "outputId": "8f075c93-eb42-4638-c256-c03a5a053587"
   },
   "outputs": [],
   "source": [
    "classifier = pipeline(\"zero-shot-classification\")\n",
    "classifier(\"Health care has become a major political issue in recent years\",\n",
    "           candidate_labels=[\"education\", \"politics\", \"business\"]\n",
    ")\n",
    "\n",
    "# Probability score of politics is the maximum"
   ]
  },
  {
   "cell_type": "markdown",
   "metadata": {
    "id": "F-NPCLekRyqk"
   },
   "source": [
    "# Text Generation Using Pipeline\n"
   ]
  },
  {
   "cell_type": "code",
   "execution_count": null,
   "metadata": {
    "colab": {
     "base_uri": "https://localhost:8080/",
     "height": 1000,
     "referenced_widgets": [
      "5d2895e3e74e48869a5762af58b820dc",
      "9b1cb5563c35439a9a6dc92e11dd617d",
      "420d795fbc294dcc85a6b83c5318dc3c",
      "c282e4cb8f6e465b8254a34b321d9f43",
      "0b98b200f6c542e79b5b8258d2ecfb34",
      "45fbfded88a04b6a8e76b3e26593572d",
      "74e8260bed1340c8922c1be44d49c4dc",
      "d6cf7b41455d467db7f478d1f298a816",
      "6503079e80f7429ba55522fefd50fad1",
      "6f2c934baf02401fb5c3976e5ea72373",
      "cbb3fdbc8dea4c08b53ce1e87f760189",
      "a2a941aa9076485499b724febb3e81eb",
      "20c439e5a2b741ad94b2c9551c0d3b11",
      "bbbae3eb4c9b454386068d38927721aa",
      "e81dc6c48ebf4427b00443919c5cf73c",
      "f43bcd1fc99741da97d5fb9fbedf267f",
      "73586d69c5d74506b557139ba61489ea",
      "77252e51ebe94333ab113b3de399abc7",
      "f8995e6f8c8d4a01a3637d2d3f4101e6",
      "ceaf172d48a84dd48e19f173d388cc69",
      "5ca86a47faa843db9d7ca31697ac066c",
      "288624d5a6194af391bdc3c173c43117",
      "41ac1e33167c4ac0ba0ebe99259f54e4",
      "be924af898174a0d98daa330a11444ce",
      "5ddc513279844b58a2aab334f69c2730",
      "0ecbe1ddc45045ffb8aedef556dd8770",
      "8901d53f0ff74c76957f7f4064d5a51e",
      "2f0b610b7ad44ad3a936eef120ff5c44",
      "c3a8e8c5d664406a82b05576ff42e0d5",
      "05af1f9bfed145aab1298a04efb1e36a",
      "c943c1f931b6407c8ae525c5e2da61a3",
      "634bbb1e1b664b64bc1ac4c7dc392eb2",
      "1752dee08bb74b738b31a8496ff8131a",
      "854a8b9788cd4092b56ddc59110d322c",
      "7adf12ebc9494d2681509d12b7603bd7",
      "31c9891d20494ff58613cd77f964381e",
      "e50dc4af3a5b4785933b77044dddf189",
      "b7d4a34704e0474e96fd72e8fee163bc",
      "f38d5e09fcf945d08e0c1fb4dccd041b",
      "3845d1371bf245caafcd72a01965d698",
      "da87a180aaf04d069fe6537bf445897e",
      "9f53fece7b8e44f7bef5c039fb611dad",
      "36951dd0594444bbb38a8265197a52bf",
      "0c0eee31ea0f4a8d8bf5217f7b4676e7",
      "04023125bb1b4b358ebb4bd0e9dd39a1",
      "8e5807c45ab44152b1b1ac4a9d9182a0",
      "07eb5940f4544a16a8945a9d934da0d4",
      "27e2f32548ab4c6baf67c75da4c66ca5",
      "e1da8451cf474c51b01284827783b968",
      "10de933e3d0b4ae1a59f2bafb9b1e62c",
      "5e9cb02b9278433794bd7959212885c4",
      "d7ce0f72760842a38dc706827a408ad5",
      "465ebec7ef174de4b3fa884c46e4c9cd",
      "487ec81cde204e40880bb26eab9ed5f5",
      "80a6f38a1b464340a6bb8de0918f1e8d",
      "ef0dcf9dc1fd4bb1af015e07e1c6de98",
      "f21b48f2e7cb4cf18118002d6bdecbe5",
      "79e51890c7b2459ea0688a05418f2fa2",
      "ba28344b584c47de86438048d3dbfaa5",
      "68196d47571c4b54b701f4c3804be4e0",
      "91697bdeb67c42c8a54e688408f4915f",
      "5a06b5f3cb6642449eb77eaf6fe83ecc",
      "476b8a61af8e4aecb391a8d5b1963f58",
      "425ebf24d5924f95bc2ef20c67f7861f",
      "53f71e2dc91d4e63a0cd60f3fe00ffe3",
      "e9ee2e42107e4f3884fa03eb645ea536",
      "aa370eaecd724e8a8ef192d771d72095",
      "fadfe5b304eb4bda806ccdc06b2c6e33",
      "26697803b6e64741b1ac44eaab3a2cab",
      "ffc4dd8a069c41e1a0a549baaa9c6760",
      "5de48422543249c8af3ee0632e686c1a",
      "4597a829acd7449daa37fda7ea8e1a31",
      "f43b8f8cbe88483183532769d3bbac22",
      "5041725e0b714f359958d74affd6c5c5",
      "0b6e72f0074e4ec0bea93bb8d01caa18",
      "128aa7e08fdb4169b229f949e5c25027",
      "2c8efbd0892745c691c44212135e7bb1"
     ]
    },
    "id": "IAuwV3jSRxPk",
    "outputId": "9f81020e-9368-4a62-8fd1-17446538edc6"
   },
   "outputs": [],
   "source": [
    "generator = pipeline(\"text-generation\")\n",
    "generator(\"To truly understand the universe, you must first comprehend the concept of\",\n",
    "          num_return_sequences = 5,\n",
    "          max_length = 14)"
   ]
  },
  {
   "cell_type": "code",
   "execution_count": null,
   "metadata": {
    "colab": {
     "base_uri": "https://localhost:8080/",
     "height": 510,
     "referenced_widgets": [
      "ceb1526b07b3423f870e9ae87900db4d",
      "d9189fbe0ba3419aa93a8a96d1e12bfa",
      "b600883d05e747a8b7350e142664f87f",
      "16a0a4c27b7a4e8eb0a6ae10b54cdc93",
      "e4dfbd53f54b4afba6d1e116a1ee17cb",
      "ee09eb7961a04f34b0d7e244ce650ceb",
      "03354c4f258245a18f50934d2896e8b3",
      "3ed6eadd54014c07bb1f076f49aa130f",
      "7f16289aeecb448690e66b9bb9bb4ea5",
      "4236bddf0978414f9dbbdb5086291b0f",
      "28c51b0275764f9893ba8a8840fe1742",
      "9d11081d801545cd8461fbeedebc4fe3",
      "a4830c8d62444a7892b2386c428fd95b",
      "9bcd7dcbfade4bcaaf84fca2033da007",
      "febea6d6f51843ef887f8301983e75fe",
      "d0193b07417f49b9af21d2381f75f566",
      "af3e3e7abfc9492fb25de734c6c41e3a",
      "93fa0b03359e42e8982a57472d06d743",
      "7daf5d062d624b97b3b7548e98760613",
      "56c95939812f4d4182c9cd503a72f31b",
      "6b8bcbdb12454b3185e3714f5137eeaf",
      "31e44f63556b40a79d473dc126c32cc1",
      "5f2ba017d2a54b1f8ade9862c3070b72",
      "9c6d614cca2940b69ba07265330dc09e",
      "ac7d619ba93a40cc9c27ce7a286571fd",
      "5268d2c53d77458297c8df999222eb9e",
      "78a5f1f9bdfc41aba9ef259757f2f8f3",
      "ca89ee50d1d44bc88f59f0cf4eb6be0d",
      "a39993c82f41467c864460c42a10a758",
      "5774aac9dacc421fb9bd823cd64dffd9",
      "fadc79ea1f2242779007958d6481bed7",
      "78283df15e7d4713a9449823c00c80ce",
      "d828c2e682f64967858ec9397a221d51",
      "4296d4c569504242b85f18d0ec88caf4",
      "b9d3ee4175464a7cbfb4f990fbe3718a",
      "b36c7e06b1ff48eb99a17c6ab5c317b2",
      "33c6760b5c084fbb8d8a84305580dc23",
      "4d41d9ed8c884d19bbf9e9d0f410b66d",
      "51c216278fa44855b3c14e570c7f41b6",
      "a00cc223615147db94a6df8c8d8abe35",
      "175e8ca80cca4a80afe04e5d771dc82f",
      "898204f8025e422eb547e1b655bf60da",
      "bdf5cac670a14dda8d2f5e8e6c6e88c8",
      "0838e15d249649de904362076645cb59",
      "b624349a3ca640379953b6191f8b5210",
      "e99494adef724adfa75302ba8e420e36",
      "10f6438f682249fc8594901a1001948d",
      "6499786f53e74adf8da30eafe5d6b863",
      "00d7391692354330bb7de0fe076c74a0",
      "b5bcba165e974fadafbfb8b8d94fdb66",
      "62ebb33b3b2d4a839c1b739795d1caff",
      "e6492920772f4dacafc9655a8efa9dd2",
      "2c09a356155c4b309fad24b92182436f",
      "0ba5a447f8f043ba8aaa8e5f3eaa060c",
      "c1899bdc18e34496a7a00389c964f130",
      "deeb8479015f4612aaae020bb9346bf1",
      "414d9ff7b88d4a159424e1137074cfc4",
      "da51178b03a54c208bfbc4eadc16ddc6",
      "15490944b73e481da9769d8a0a000097",
      "dd2c900d0f6945f299a48e3ad94e2ed7",
      "6329dec97a4b4d4a98fbe5e0176f0382",
      "ec6dcf2344bc4eb3ba275fcec9b531cc",
      "8339341babcd418bafd5c6a59dadacd2",
      "5ead83d3ecd6456e8771e18210b81d7f",
      "a8c840f02a134013bd7f031fae439760",
      "558c41663fb04352b73b3cea93d8aa97",
      "868df19ee83340e4afbb355e3889a94d",
      "6ecdc26c93c94cad8a6777f2b1eb90e0",
      "df7b3657714f411ba86aebd832ec0cb6",
      "8c5f88d67dc5422dbcb65c5701faa2fa",
      "da6499644de14af6a48bb9f3b645d0d6",
      "ede85eb392bc4456b9d3e3637cf43d1e",
      "dcaba48b48d74f1b80418d50e9c69f8c",
      "fbe1bd1ba0ce430a99cc13a92b73eee0",
      "b6ab46bdd9154acaa90b2373932187f0",
      "8f890330a7504c55a3ff7472ec04c99a",
      "66c4db7609cc480984e92d5c04bd5f29",
      "9aa684ea4ba34249ad0b1502d8107eea",
      "3fe8861eb80f453cb46c9d4827f278fb",
      "f364b9057619480185adac02f197a31f",
      "49fd393c6f974df48b1ad1d46a1869f0",
      "c03713b52ab2466aadd1dd7151f5fd63",
      "19159ffddcd44127862397df8bbe275f",
      "083c5ccde7f34e5e93e8b2769bf682d6",
      "1c48acf5e87148f9b969ea495f459cce",
      "27d76a1a026145cca8a732745cc107c9",
      "8a301051381946c98e9f15643f7c1da6",
      "47580141a55b4c9a8adf327992fe51fb"
     ]
    },
    "id": "z9QAhL12SxDU",
    "outputId": "d5eefbaa-128a-4ace-bfd3-e2a60e7c247f"
   },
   "outputs": [],
   "source": [
    "generator = pipeline(\"text-generation\", model=\"HuggingFaceTB/SmolLM2-360M\")\n",
    "generator(\n",
    "    \"As the sun dipped below the horizon, casting a final, fiery glow across the sky, a profound sense of\",\n",
    "    max_length=30,\n",
    "    num_return_sequences=2,\n",
    ")"
   ]
  },
  {
   "cell_type": "markdown",
   "metadata": {
    "id": "_Pe9npN_TS5_"
   },
   "source": [
    "# Mask Filling or Completing Sentences using Pipeline\n"
   ]
  },
  {
   "cell_type": "code",
   "execution_count": null,
   "metadata": {
    "colab": {
     "base_uri": "https://localhost:8080/",
     "height": 555,
     "referenced_widgets": [
      "2959cfb1b5cb4470b8395e6500e6622b",
      "da532c9e76994c3f969834bc123cfd4d",
      "e90106fabb2b44cfbd53ea6e0b201ae2",
      "5f6c4da57f1349e39e7cd15e6ae1f7b6",
      "1b4b74d6ada14cf8ad9ec78e9bff153f",
      "6af9cb8c37be44638edf18cac0769be4",
      "08cc0b03e2f34e4ab171203e529d9888",
      "3dced269c67e4f2c8dd4bce0b270585b",
      "7e0faf567b6a4c70bb8ba8151409fa4c",
      "e5bb9c6ac35f44e3b83afface7bfedc4",
      "6c9938852d364d658e9ea38bd826eef2",
      "2b0980570fda4e35a571f61be6009a32",
      "bb904fc0f85e4f8a8d76554649bf5a1e",
      "9b01b8c5383447c9afc9944b3b67db24",
      "998137a9f6e542e9ba1b2a17aca309f3",
      "b5096a10a48d46abb043e6926cd4de5f",
      "3bafe7c8ae01463aae3b74c9b9e2f2ce",
      "6f3ae0142fcd49708654d3f9de9af6da",
      "39d0f9ae95c94a64981f14b106a5f55f",
      "ad0f6f581a9a4560a97f1b771bc70cb4",
      "3acc2911ba684ac585b0f27e5036c1a3",
      "9110e04493f24515aa4f2294e44015b5",
      "7772195bb30c48f99262692d8c58eb90",
      "e990ae32ab994712acfb73f141089666",
      "9564609434f143e6968ee38499cc6b2c",
      "a474b89d7a1c4fe9b0929ba50b31a0a6",
      "7c1f1849f15847d5bfcf9c7f911cdbea",
      "af1c71fc20cd410f9bcdf32e77c4829b",
      "3c11cc97e09d49039e0b63f7fcc5b7a1",
      "d193b8f5ee74494892964c4b2294c7fd",
      "526579e85ddf43349ec09c42a652f16d",
      "de31c483715048b98eb86de6d66b9db4",
      "634482bb16ee477d9657e8e30bbe6c04",
      "20872ecdce754b10b8048480aa4bc4a6",
      "4a4173ee18a546308f812f2fb3300cba",
      "8603eee05c9d4a98a8db2a97f9ca0c85",
      "bbb7c49cee2842428fb7f695078b6da1",
      "5fb3cdf1d53b465b906fa6c5a7da316e",
      "2c23ef5b713c4fd68725d8c7328de7c6",
      "5f88038747834183881861f831bffbb5",
      "2087d61d8426489e854b38caa98df463",
      "621fbbf306ac40fa9aa91bc57a6f8f32",
      "5ae2cc12233b44aa84607d1412b4fc9e",
      "27e388ac2a994b94a7c4729ef4c50e4c",
      "cd404b81f5a343709000131a10f3cd6b",
      "0f5b857f5e84496aa9dac79b26af077e",
      "55ba705ce5a64025a4eab668f576c675",
      "9ea0f64db5db45d594576724aef9acf9",
      "2282d3505a8a423685b038d4cdcef249",
      "0542e3fc9e2745ab9061545abb0fdb6c",
      "d1062a88460543589506e2b3ce6c7d84",
      "33836106c28741c783281800ba7dcd60",
      "4449d287da68465999f71272c9d38f41",
      "b578ea77fc124487a876fa4ac18693a2",
      "c95039ad4e954b44b6af8854f33805de",
      "0e5cb3ec507c42879eb2c5c62abff588",
      "ecad008d02334bfabb211b3eeb195ab1",
      "c1b8841e6f3a4ea7a6c1759db37d5b11",
      "dbb6c4d24ce6440eac0742243d306131",
      "f7daa1b2f6bc48019ebd6c6bd622b6b3",
      "235ddd894b934d42be685599973227f1",
      "322ecdfdc80f48b990f5a8ef6a5efdf3",
      "aaff0edd3c9a431eb00f2ed511e307e8",
      "d4ac65f142c345d4b5b9632b27ecc7fc",
      "c04573dad8fe4bc4ad4c16b8b0e1c045",
      "f752e262e82940028aa010c7f16011ea"
     ]
    },
    "id": "_LtpBkk9TPcs",
    "outputId": "f386af95-5435-456a-b4c0-95d95d035302"
   },
   "outputs": [],
   "source": [
    "fillup = pipeline(\"fill-mask\")\n",
    "fillup(\"After years of dedicated practice, the musician was finally ready to face the <mask> that would determine their career\", top_k=3)\n",
    "\n",
    "# The top_k argument controls how many possibilities you want to be displayed.\n",
    "# Model fills in the special <mask> word, which is often referred to as a mask token."
   ]
  },
  {
   "cell_type": "markdown",
   "metadata": {
    "id": "9E7WXVInQfA5"
   },
   "source": [
    "# Name Entity Recognition(NER) is a task where the model has to find which parts of the input text correspond to entities such as persons, locations, or organizations."
   ]
  },
  {
   "cell_type": "code",
   "execution_count": null,
   "metadata": {
    "colab": {
     "base_uri": "https://localhost:8080/",
     "height": 549,
     "referenced_widgets": [
      "d3955989a72d4862b3807a7af0edea0a",
      "b694f60ee4fc4d839ef27d2ddd9ad7ce",
      "0bd6a04f800d4e25b8eb7d4864630904",
      "00fa9bf23df940c79b581bdd8869e037",
      "cfc40f31320a47fabdd46fa05be48f78",
      "b03ba33c61514d4a956691a0d39249a5",
      "33bd784dbfd14d2481d8633263eca0e9",
      "4ad26eda78004019885a5922b59dd60a",
      "c0f47c75704847238f3aa80a18db4aa7",
      "6aba50815ec74f61b4e840027f6e0bc3",
      "1e1cebb8dcc4468e9c29217f8d289462",
      "55e7601e625445e2a47b7c79b2a482ef",
      "a8cebd7ce2954228ab6883c1b94738c0",
      "da106ba1f95a4ab7b13398804153c41c",
      "2319abd1d07d4073b7365f84b7d085c9",
      "46f23e145a424112bf9fe9eacd2bd685",
      "c033029290c848f6b1804c9e95e02745",
      "1e2d997a981c447eab88e01a4fb0fc47",
      "2cfaed687b6a4be69f7cb2b118ab0323",
      "63cd57c1596a40fc887e31c8ed91c6e2",
      "4730922d09ac49418ff4962a0c41a632",
      "c1db86c83c18446eb192c2fb4414562b",
      "69d45f02488641188e17ff29e2b6237d",
      "e4bddacfd71d4a54ad3bb27a63523778",
      "e581d712977248d38de126cf2817a048",
      "2b07521e237d4a0bb335696168031297",
      "db5ff4eafb9d4eb2aaa2503e21f6042e",
      "ea8d520721334c289e1d4c0d0178bbbc",
      "3b9b4ae0c1a74bb08a9449a409ef3f8f",
      "98e33892e92c4da098097b261c85a796",
      "b8e08db515c34e4191e963f4d717905c",
      "dd5e37d360384507989c2f2812581383",
      "8e24b303edbe47b2bdf1e48d98879b20"
     ]
    },
    "id": "n_6Wq3foU2JP",
    "outputId": "72df3d64-5358-4725-f3ae-fccbf9ddfc21"
   },
   "outputs": [],
   "source": [
    "ner = pipeline(\"ner\", grouped_entities=True)\n",
    "ner(\"My name is Aman and I did my schooling from SSMS in Delhi.\")\n",
    "# grouped_entities=True in the pipeline creation function to tell the pipeline to regroup together the parts of the sentence that correspond to the same entity"
   ]
  },
  {
   "cell_type": "markdown",
   "metadata": {
    "id": "f4M8TsHYVy2c"
   },
   "source": [
    "# Question-Answering using Pipeline"
   ]
  },
  {
   "cell_type": "code",
   "execution_count": null,
   "metadata": {
    "colab": {
     "base_uri": "https://localhost:8080/",
     "height": 324,
     "referenced_widgets": [
      "8310ec3147844bb18889282a29e77fb0",
      "6c1d3d4a5fd84de5a624f52faac30a68",
      "1298c4449ba64ddc82366ee6c7fc3264",
      "dbf86e8049914266830e73cf919174ae",
      "1547fc1318fd43579a2edc1f90df0ae9",
      "9b848cabc00b456b965e1fb932e0012c",
      "4c2ca85b956648c69a754575c2fd0753",
      "823cbef6ae214f92be8e9873a36a1eb8",
      "40b8e57ed5974865a21dee2fc65fb477",
      "99227c5312a847d8ad64e445947b7582",
      "c71a4d2dcc0444f78d670aa9606cfcc8",
      "da10f464b4a642e0a5035eb59d82ca9f",
      "f3b441d0b54c43ba9a14ba257dbdcd2e",
      "ed25dbc7eab940deaa57ec53f7281faa",
      "f4ad7b71e5db454eae888318a2db8517",
      "6a5f3afcd51e44b48d7d53da09dda5ea",
      "5db72e841b284793b374808beacb76eb",
      "bfc6d857c1d94bb9aa2164827bdc12ca",
      "6256a1736aac407b9ecfb3f509b19b47",
      "3583d205a3604d9982d1e7cec5e8379e",
      "ee0f456729f74ac4bae7caf0d933c317",
      "97fadcae834d4879892726abaa20f959",
      "0cc65acf899e4cb1a368c5ff8155c998",
      "df69f8bc4bf34e29ae9d4ca831755c6a",
      "f9111d2381fc4224bcd662c5ab84ebf7",
      "cfc6af35662c4061bf6d2c4a5679f149",
      "3bd5ece2a41e435dad07fbf116771d93",
      "725481eb451644ca91a19c5970a12721",
      "8c58c124e3e345708268c58e10ecf40f",
      "415577faf8874c7ea388a1ca86221d16",
      "c10b755fa0ae4982ad2255facd4e3003",
      "ffb69436717342e9ae8e998ff127c3ea",
      "fb00b9f09b74494c9366fa70cb4c6083",
      "3563808fdd4e48788bc683e0a1101871",
      "8f215e699c2b47f9b4081f17292c0e7f",
      "bf95ec7ea6bd44dda20e1e6664216d4f",
      "598272d68c09417e8937d39fa83a079e",
      "4471eb967db34aa3b88ba1208a6d37cd",
      "0439f99ca4424f83b60cee7b8a61774f",
      "9221b5a92d4e44c7b457d6cec289f630",
      "1900b211b60e4104a8324ead4ec548e8",
      "664ffc18a198472ba7795cd4814ce595",
      "8a90cba7e36c494b8482b466ede3be73",
      "a2b42ca561af4b6ba1898b8c005cafc4",
      "98a82eec9b174681bebba1b6f4f27ee1",
      "2f58baa255ac40fab8ad65e4104c4d89",
      "09cabebaba3b4d6287ef14c58b633046",
      "057e998cbda44a90b80d5744e0056197",
      "ca07255ee4f142df92465f707a1aba46",
      "3f59171267c2452080b686951f91ccf9",
      "d72df06b383e457fbddd88439914d800",
      "69b94c18edd649d6a028f98886d02105",
      "c44f9a4c96074c43a738ba768f83ff48",
      "5a2a78ba8ab44609af7080e7a9d4b41b",
      "d8a6a680938546b0baee3e9f49aaaed0"
     ]
    },
    "id": "6cDHBum2Vx86",
    "outputId": "5e4dfdd1-88ca-4ca9-be1b-6db652e41c89"
   },
   "outputs": [],
   "source": [
    "quesAns= pipeline(\"question-answering\")\n",
    "quesAns(\n",
    "    question=\"What do I like\",\n",
    "    context=\"My name is Aman and I like to do binge watching\",\n",
    ")\n",
    "\n",
    "# Pipeline works by extracting information from the provided context; it does not generate the answer."
   ]
  },
  {
   "cell_type": "markdown",
   "metadata": {
    "id": "UmQTFQJLWTy-"
   },
   "source": [
    "# Summarization using Pipeline"
   ]
  },
  {
   "cell_type": "code",
   "execution_count": null,
   "metadata": {
    "colab": {
     "base_uri": "https://localhost:8080/",
     "height": 299,
     "referenced_widgets": [
      "3378b51e28344492b6d274a172e7b78e",
      "2c419876b0634f5589225c5fb50bdaa7",
      "cfb1963c3df04ab7b88fbcd763163786",
      "6dd741a327b0475a89025bd44d07baa8",
      "e0925ab9057f49d2993045df15676d25",
      "8d90ca071ece4a788ea40e889111b307",
      "1804e3b290d04c408bf498ecaa3a1612",
      "54406134894a47a8a8980d112ddbd357",
      "8d475c279ef847aebd3585f697243c17",
      "89cc31bb769e4f41be5df02938588b69",
      "3d1accfa05d14a8d9eef4101732d01eb",
      "23ae4578c2504e30ac44bea312b224b5",
      "efc6f08678894fc99ab9ece294e94ced",
      "863a10cbbe3f4c4a805953f0fa465bfc",
      "fb0d02dc5c684b5096b7e0971a64bcfb",
      "1dba5e3168204a5f97044f77d729b596",
      "af98ce41edbf4095a9057f00a9cd155f",
      "ca90a5f24a1b49a5a62ab7c378493216",
      "a979be89ee89423ab6e789c11d565aaf",
      "98c5eaaf6ae942fabfae18922ecd8bc0",
      "51b258ca2c1b4bbd89dbbce92ae54f33",
      "c3f35caed6304c019dfa04367201f3fa",
      "f389ba42da274854ba231d0ea40007e7",
      "e0a0177f50fe4e1fbe10ae9aeb22ddb9",
      "c4d37ddb65824eed952b906930d75462",
      "0347d9dd476046d1a7d0bd566a7dd3b5",
      "240e9c8c3bcb43f3b4907925bf7160d9",
      "87db8d1106ce46b4b4e5c89e47c489f9",
      "dc2805b796aa4cd2aae21cf382c222b9",
      "3eee0418676e45b793127bc8015b514d",
      "19d503437e0f4290bab59697c87fcaeb",
      "59c6ac6e3f4446cb941f760c459cebe3",
      "33bdc953a22e4f6aa7404a82e2b3bcb3",
      "08c25d2612ea4ae493d4db6b86715f15",
      "ad7238b1ec8749f586bfcd436c5e237e",
      "2b54a7c936bd4ab1a2d58c81d90ffe7c",
      "e4b2264b95e743eba092c376eb30927b",
      "0145a3d03b6540589543f7c25ddb1ede",
      "c5fa8622791e4965b6d4d5b965881b4c",
      "dfb3f974d90345e5a6f90d90607fabbd",
      "ceb950e4e80b473abfd6c5431029d264",
      "77f59035691c49289b87f44e573b7f93",
      "7c2abdd5694e47d6bc41f37a52ed6db8",
      "b9fdfe7fad3a473fab524f9f4a70a9de",
      "92ad333cd0ef41278abb35c6c68f2e93",
      "69f696e01a48404f903fecfe3ae5c3dd",
      "37405585e6914a84997ac1d9418d7c83",
      "b805c8130c4045aeaddd2fb72cf43d2b",
      "d0aeb98f9017421881f73ca579e08bda",
      "f4e50bb9e8b24c888869b198ba6bb8bb",
      "bb5bbbb3253c4d8880d96066c5ec6162",
      "1fdbb4bad3d24e349b3c617597cd1a0c",
      "b0927250edd54b7bbe79fb39cf8e0e52",
      "2abcc42f98d54222adfe45655e33fc07",
      "d9848dc9fcdf4011a2ded2300e1d4878",
      "cbc3765e7ee8442e9db526d0b0c13061",
      "6717f3fbea8b4c0b99ac823841a5fa7a",
      "ac77c512ea5a46a5b718e3e8200b34d6",
      "75500116aec348d18fca2f3682c0a899",
      "4c7a397250af4934b53399bbdaa86e74",
      "43c733f3a0e345b084925160682fc715",
      "e0b01d39ed9d4e189105360f50e40674",
      "6dfabe51e08e4a2597ac0a13ff7d159c",
      "cdaa862b11054f57b03cc2ae789c061d",
      "85651bbf1bbe49f58a7b218d8419b37f",
      "9e44fc0686af4227b29e70a6db8e9ade"
     ]
    },
    "id": "r-ip3OOHWTVT",
    "outputId": "d384719d-7ab5-4d34-ae27-bef7fec06410"
   },
   "outputs": [],
   "source": [
    "summarizer = pipeline(\"summarization\")\n",
    "summarizer(\"\"\" The evolution of the written word has been a fascinating journey,\n",
    "beginning with simple pictograms etched into cave walls and culminating in the complex digital fonts we use today.\n",
    " Early civilizations, like the Sumerians and Egyptians, developed cuneiform and hieroglyphics to record laws, trade, and history.\n",
    " These systems were often cumbersome and required specialized scribes, making literacy a privilege of the elite.\n",
    " Over time, the invention of the alphabet by the Phoenicians simplified writing, as a limited number of characters could be combined to represent sounds,\n",
    " making it far more accessible and paving the way for wider communication and the spread of knowledge.\n",
    "This accessibility accelerated dramatically with the invention of the printing press by Johannes Gutenberg in the 15th century.\n",
    "Prior to this, books were painstakingly copied by hand, a process that was slow and prone to error,\n",
    "limiting the distribution of information. Gutenberg's innovation made it possible to mass-produce books and other documents quickly and relatively cheaply.\n",
    "This led to a boom in literacy across Europe, played a critical role in the Protestant Reformation, and fueled the scientific revolution by allowing new ideas to be\n",
    "shared and debated on an unprecedented scale. The printing press fundamentally changed society, shifting the power of information from a select few to the masses.\n",
    "\"\"\"\n",
    ")"
   ]
  },
  {
   "cell_type": "markdown",
   "metadata": {
    "id": "-aGYe6P1XJ1t"
   },
   "source": [
    "Some other tasks\n",
    "1) Translation\n",
    "2) Image Classification\n",
    "3) Speech Regonition"
   ]
  }
 ],
 "metadata": {
  "accelerator": "GPU",
  "colab": {
   "gpuType": "T4",
   "provenance": []
  },
  "kernelspec": {
   "display_name": "Python 3",
   "name": "python3"
  },
  "language_info": {
   "name": "python"
  }
 },
 "nbformat": 4,
 "nbformat_minor": 0
}
